{
  "cells": [
    {
      "cell_type": "markdown",
      "metadata": {
        "id": "68uKiQmUGbbx"
      },
      "source": [
        "# <a id='toc1_'></a>[IEOR 231 (25spring) Assignment 1](#toc0_)"
      ]
    },
    {
      "cell_type": "markdown",
      "metadata": {
        "id": "tZc8iAuPGbb2"
      },
      "source": [
        "**Table of contents**<a id='toc0_'></a>    \n",
        "- [IEOR 231 (25spring) Assignment 1](#toc1_)    \n",
        "  - [Description](#toc1_1_)    \n",
        "  - [Q1: Trading stocks (Mandatory)](#toc1_2_)    \n",
        "    - [(a)](#toc1_2_1_)    \n",
        "    - [(b)](#toc1_2_2_)    \n",
        "    - [(c)](#toc1_2_3_)    \n",
        "    - [(d)](#toc1_2_4_)    \n",
        "    - [(e)](#toc1_2_5_)    \n",
        "    - [(f)](#toc1_2_6_)    \n",
        "  - [Q2: Covariance matrix (Optional)](#toc1_3_)    \n",
        "    - [(a)](#toc1_3_1_)    \n",
        "    - [(b)](#toc1_3_2_)    \n",
        "    - [(c)](#toc1_3_3_)    \n",
        "    - [(d)](#toc1_3_4_)    \n",
        "  - [Q3: More on momentum trading (Optional)](#toc1_4_)    \n",
        "    - [(a)](#toc1_4_1_)    \n",
        "    - [(b)](#toc1_4_2_)    \n",
        "    - [(c)](#toc1_4_3_)    \n",
        "    - [(d)](#toc1_4_4_)    \n",
        "  - [Q4: Volatility loss (Optional)](#toc1_5_)    \n",
        "    - [(a)](#toc1_5_1_)    \n",
        "    - [(b)](#toc1_5_2_)    \n",
        "    - [(c)](#toc1_5_3_)    \n",
        "\n",
        "<!-- vscode-jupyter-toc-config\n",
        "\tnumbering=false\n",
        "\tanchor=true\n",
        "\tflat=false\n",
        "\tminLevel=1\n",
        "\tmaxLevel=6\n",
        "\t/vscode-jupyter-toc-config -->\n",
        "<!-- THIS CELL WILL BE REPLACED ON TOC UPDATE. DO NOT WRITE YOUR TEXT IN THIS CELL -->"
      ]
    },
    {
      "cell_type": "markdown",
      "metadata": {
        "id": "-ji73etHGbb3"
      },
      "source": [
        "## <a id='toc1_1_'></a>[Description](#toc0_)"
      ]
    },
    {
      "cell_type": "markdown",
      "metadata": {
        "id": "QRZFQuohGbb4"
      },
      "source": [
        "## <a id='toc1_2_'></a>[Q1: Trading stocks (Mandatory)](#toc0_)"
      ]
    },
    {
      "cell_type": "markdown",
      "metadata": {
        "id": "yxRbEzRAGbb5"
      },
      "source": [
        "Below you are given prices of 3 stocks (APPLE, AMAZON, NVIDIA) in the year of 2018. We have calculated the daily return of each stock for you as df_aapl, df_amzn and df_nvda."
      ]
    },
    {
      "cell_type": "code",
      "execution_count": 1,
      "metadata": {
        "id": "LThLETKAGbb6"
      },
      "outputs": [],
      "source": [
        "import numpy as np\n",
        "import pandas as pd\n",
        "import matplotlib.pyplot as plt\n",
        "import scipy.stats as stats\n",
        "from scipy.stats import norm"
      ]
    },
    {
      "cell_type": "code",
      "source": [
        "from google.colab import drive\n",
        "import os\n",
        "drive.mount('/content/drive')\n",
        "os.chdir('/content/drive/MyDrive/IEOR231/A1')"
      ],
      "metadata": {
        "colab": {
          "base_uri": "https://localhost:8080/",
          "height": 0
        },
        "id": "Lqz07wZmGw-u",
        "outputId": "a07c3df0-7e5b-4d59-8e00-944140f58801"
      },
      "execution_count": 2,
      "outputs": [
        {
          "output_type": "stream",
          "name": "stdout",
          "text": [
            "Drive already mounted at /content/drive; to attempt to forcibly remount, call drive.mount(\"/content/drive\", force_remount=True).\n"
          ]
        }
      ]
    },
    {
      "cell_type": "code",
      "source": [
        "# import the dataset\n",
        "df = pd.read_csv(\n",
        "    \"assignment1_df_2018.csv\"\n",
        ")  # make sure you have this csv file downloaded"
      ],
      "metadata": {
        "id": "Lo-HQ8K0G5dw"
      },
      "execution_count": 3,
      "outputs": []
    },
    {
      "cell_type": "code",
      "execution_count": 4,
      "metadata": {
        "id": "1QaRWQakGbb9"
      },
      "outputs": [],
      "source": [
        "# select all APPL, AMZN, NVDA rows separately\n",
        "def get_returns(df, stock_name):\n",
        "    df_tmp = df[df[\"stock_name\"] == stock_name]\n",
        "    res = df_tmp[\"price_close\"].pct_change()\n",
        "    return res.reset_index(drop=True).drop(index=0)\n",
        "\n",
        "\n",
        "df_aapl = get_returns(df, \"AAPL\")\n",
        "df_amzn = get_returns(df, \"AMZN\")\n",
        "df_nvda = get_returns(df, \"NVDA\")"
      ]
    },
    {
      "cell_type": "markdown",
      "metadata": {
        "id": "3Dl2eEC1Gbb_"
      },
      "source": [
        "### <a id='toc1_2_1_'></a>[(a)](#toc0_)\n",
        "Calculate sample means $\\hat{\\mu}\\in\\mathbb{R}^3$ and the sample covariance matrix $\\hat\\Sigma\\in\\mathbb{R}^{3\\times3}$ for 3 stocks."
      ]
    },
    {
      "cell_type": "code",
      "execution_count": 5,
      "metadata": {
        "colab": {
          "base_uri": "https://localhost:8080/",
          "height": 0
        },
        "id": "03bFTdthGbcA",
        "outputId": "6820938f-e2d7-4357-f6f2-fd291147b06b"
      },
      "outputs": [
        {
          "output_type": "stream",
          "name": "stdout",
          "text": [
            "sample Means: \n",
            "AAPL   -0.000189\n",
            "AMZN    0.001194\n",
            "NVDA   -0.001109\n",
            "dtype: float64\n",
            "\n",
            "sample covariance matrix:\n",
            "          AAPL      AMZN      NVDA\n",
            "AAPL  0.000328  0.000273  0.000289\n",
            "AMZN  0.000273  0.000518  0.000451\n",
            "NVDA  0.000289  0.000451  0.000960\n"
          ]
        }
      ],
      "source": [
        "# Combine the returns into a DataFrame\n",
        "returns = pd.concat([df_aapl, df_amzn, df_nvda], axis=1)\n",
        "returns.columns = ['AAPL', 'AMZN', 'NVDA']\n",
        "\n",
        "# sample means for each stock\n",
        "mu_hat = returns.mean()\n",
        "\n",
        "# Calculate the sample covariance matrix (Sigma_hat) for the stocks\n",
        "Sigma_hat = returns.cov()\n",
        "\n",
        "print(\"sample Means: \")\n",
        "print(mu_hat)\n",
        "print(\"\\nsample covariance matrix:\")\n",
        "print(Sigma_hat)\n"
      ]
    },
    {
      "cell_type": "markdown",
      "source": [
        "**Hence, the sample means is $$\\hat{\\mu} = [ -0.000189, 0.001194, -0.001109]^T$$** <br> **the sample covariance matrix**\n",
        "$$\\hat\\Sigma = \\begin{bmatrix} 0.000328 & 0.000273 & 0.000289 \\\\ 0.000273 & 0.00518 & 0.00451 \\\\ 0.000289 & 0.000451 & 0.000960 \\end{bmatrix}$$"
      ],
      "metadata": {
        "id": "4Ipjv_4VIL1K"
      }
    },
    {
      "cell_type": "markdown",
      "metadata": {
        "id": "Ru-tkRyZGbcB"
      },
      "source": [
        "### <a id='toc1_2_2_'></a>[(b)](#toc0_)\n",
        "\n",
        "Plot the histogram of returns of NVIDIA, and compare it with a normal distribution. Do you think it is normally distributed?"
      ]
    },
    {
      "cell_type": "code",
      "execution_count": 6,
      "metadata": {
        "colab": {
          "base_uri": "https://localhost:8080/",
          "height": 472
        },
        "id": "19oTWZ1nGbcC",
        "outputId": "73d57fa1-306b-4421-b0b5-2a3577755094"
      },
      "outputs": [
        {
          "output_type": "display_data",
          "data": {
            "text/plain": [
              "<Figure size 640x480 with 1 Axes>"
            ],
            "image/png": "[encoded data removed]"
          },
          "metadata": {}
        }
      ],
      "source": [
        "# NVIDIA's mean and std\n",
        "mu_nvd = df_nvda.mean()\n",
        "std_nvd = df_nvda.std()\n",
        "\n",
        "# plot the histogram\n",
        "plt.title('histogram of returns of NVIDIA')\n",
        "plt.hist(df_nvda, bins=70, density=True,alpha=0.5, edgecolor='black')\n",
        "\n",
        "# plot the curve\n",
        "xmin, xmax = plt.xlim()\n",
        "x = np.linspace(xmin, xmax, 100)\n",
        "p = stats.norm.pdf(x,  mu_nvd, std_nvd)\n",
        "\n",
        "plt.plot(x, p, color='red', linewidth=2, label='Normal distribution')\n",
        "plt.xlabel('Return')\n",
        "plt.ylabel('Density')\n",
        "plt.legend()\n",
        "\n",
        "plt.show()"
      ]
    },
    {
      "cell_type": "markdown",
      "source": [
        "**This returns are not perfectly normally distributed because the distribution appears left skewed. Also, it has a fat tail so this distribution has more extreme outcomes than the normal distribution**\n",
        "\n",
        "**Therefore, it is not very normal.**\n"
      ],
      "metadata": {
        "id": "fGwkqUl6NvUo"
      }
    },
    {
      "cell_type": "markdown",
      "metadata": {
        "id": "xERM4WNNGbcC"
      },
      "source": [
        "No matter what your answer in (b) is, in the rest of Q1, let's always assume the return vector of 3 stocks $R\\in\\mathbb{R}^3$ follows a jointly normal distribution ${N}(\\hat{\\mu},\\hat{\\Sigma})$, where $\\hat{\\mu},\\hat{\\Sigma}$ are what you estimated from part (a).\n",
        "\n",
        "Suppose you want to invest on these 3 stocks in 2019 using the data from 2018. You are considering a simplified model that the daily returns in 2019 are i.i.d. random variables drawn from ${N}(\\hat{\\mu},\\hat{\\Sigma})$, and let's assume there are 252 trading days in 2019."
      ]
    },
    {
      "cell_type": "markdown",
      "metadata": {
        "id": "umSPwmxBGbcC"
      },
      "source": [
        "### <a id='toc1_2_3_'></a>[(c)](#toc0_)"
      ]
    },
    {
      "cell_type": "markdown",
      "metadata": {
        "id": "T9XXleUXGbcC"
      },
      "source": [
        "Consider the following \"momentum trading\" strategy:\n",
        "\n",
        "* At day $t$, after you know the return of APPLE at that day, if it is positive, you immediately long(buy) 1 dollar APPLE, otherwise you short(sell) 1 dollar APPLE.\n",
        "\n",
        "* For example, at day 1, if the return of APPLE is 0.01, you will buy 1 dollar APPLE; At day 2, if the return is -0.02, two things happen:\n",
        "\n",
        "    1. Your investment in APPLE becomes 0.98 dollar;\n",
        "    \n",
        "    2. You will short 1 dollar APPLE.\n",
        "\n",
        "    Then your investment in APPLE becomes -0.02 dollar. Your PnL (profit and loss) is -1+1-0.02=-0.02\n",
        "\n",
        "Now, simulate for $N=252$ trading days with above trading strategy and evaluate your results with enough replications. What is the expectation and the standard deviation of PnL of this strategy? Give a $95\\%$ confidence interval for the expectation of PnL."
      ]
    },
    {
      "cell_type": "code",
      "source": [
        "# Single run of our momentum trading\n",
        "def momentum_trading(mean_aapl, var_aapl, N):\n",
        "    ## AAPL returns\n",
        "    returns = np.random.normal(loc=mean_aapl,scale=np.sqrt(var_aapl),size=N)\n",
        "\n",
        "    ## set parameters\n",
        "    position = 0\n",
        "    total_pnl = 0.0\n",
        "\n",
        "    for r in returns:\n",
        "        total_pnl += position * r\n",
        "        position = 1 if r > 0 else -1\n",
        "\n",
        "    return total_pnl\n",
        "\n",
        "\n",
        "# Simulate the single run with replications\n",
        "def simulate_momentum_trading(mean_aapl, var_aapl, N, replications):\n",
        "    pnl = []\n",
        "    for _ in range(replications):\n",
        "        pnl.append(momentum_trading(mean_aapl, var_aapl, N))\n",
        "    return np.array(pnl)"
      ],
      "metadata": {
        "id": "OfvwhLKpfHbL"
      },
      "execution_count": 7,
      "outputs": []
    },
    {
      "cell_type": "code",
      "source": [
        "# get the apple var and mean\n",
        "mean_aapl = df_aapl.mean()\n",
        "var_aapl = df_aapl.var()\n",
        "print(f\"mean of AAPL: {mean_aapl}\")\n",
        "print(f\"var of AAPL: {var_aapl}\")\n",
        "\n",
        "# set the parameters\n",
        "num_sim = 10000\n",
        "N = 252\n",
        "\n",
        "# simulate\n",
        "pnl_results = simulate_momentum_trading(mean_aapl, var_aapl, N, num_sim)"
      ],
      "metadata": {
        "colab": {
          "base_uri": "https://localhost:8080/",
          "height": 0
        },
        "id": "LE8idWJ1j8CU",
        "outputId": "768848e6-61c2-4783-a791-ef14c67e2e12"
      },
      "execution_count": 8,
      "outputs": [
        {
          "output_type": "stream",
          "name": "stdout",
          "text": [
            "mean of AAPL: -0.00018865456709516338\n",
            "var of AAPL: 0.0003279354432947036\n"
          ]
        }
      ]
    },
    {
      "cell_type": "code",
      "source": [
        "# stat of the results\n",
        "mean_pnl = np.mean(pnl_results)\n",
        "std_pnl = np.std(pnl_results)\n",
        "se_pnl = std_pnl / np.sqrt(num_sim)\n",
        "alpha = 0.05\n",
        "z_crit = norm.ppf(1 - alpha/2)\n",
        "ci = z_crit * se_pnl\n",
        "\n",
        "print(f\"expection: {mean_pnl:.4f}\")\n",
        "print(f\"std dev: {std_pnl:.4f}\")\n",
        "print(f\"95% ci: ({mean_pnl - ci:.4f}, {mean_pnl + ci:.4f})\")"
      ],
      "metadata": {
        "colab": {
          "base_uri": "https://localhost:8080/",
          "height": 0
        },
        "id": "k9D4L2rckjl_",
        "outputId": "7f4741e2-f38d-40f5-c67f-27ab229d56b6"
      },
      "execution_count": 9,
      "outputs": [
        {
          "output_type": "stream",
          "name": "stdout",
          "text": [
            "expection: 0.0046\n",
            "std dev: 0.2877\n",
            "95% ci: (-0.0011, 0.0102)\n"
          ]
        }
      ]
    },
    {
      "cell_type": "markdown",
      "source": [
        "**After replicating for 10000 times, the expection of PnL is 0.0046 and its standard deviation is 0.2877. The 95% confidence interval for the expectation of PnL is (-0.0011, 0.0102)**"
      ],
      "metadata": {
        "id": "iwqu57bUnS_9"
      }
    },
    {
      "cell_type": "markdown",
      "metadata": {
        "id": "kU9gHIx2GbcD"
      },
      "source": [
        "### <a id='toc1_2_4_'></a>[(d)](#toc0_)\n",
        "\n",
        "Suppose, I short 1 dollar APPLE and hold for 252 trading days, what's my expected PnL and standard deviation? You can either do this through simulation or mathematics. Compare this with the momentum trading strategy, what do you find?"
      ]
    },
    {
      "cell_type": "code",
      "execution_count": 10,
      "metadata": {
        "id": "4ZH-EnyjGbcD"
      },
      "outputs": [],
      "source": [
        "# short 1 APPLE and hold 252 days\n",
        "def simulate_short_aapl(mean_aapl, var_aapl, replications, N=252):\n",
        "    pnl_list = []\n",
        "\n",
        "    for _ in range(replications):\n",
        "        # AAPL returns\n",
        "        returns = np.random.normal(loc=mean_aapl,scale=np.sqrt(var_aapl),size=N)\n",
        "        # short 1\n",
        "        total_pnl = -np.sum(returns)\n",
        "        pnl_list.append(total_pnl)\n",
        "\n",
        "    return np.array(pnl_list)"
      ]
    },
    {
      "cell_type": "code",
      "source": [
        "# implement the simulation using the parametes in the (c)\n",
        "pnl_short_aapl = simulate_short_aapl(mean_aapl, var_aapl, num_sim)\n",
        "\n",
        "# stat\n",
        "mean_pnl_d = np.mean(pnl_short_aapl)\n",
        "std_pnl_d = np.std(pnl_short_aapl)\n",
        "se_d = std_pnl_d / np.sqrt(num_sim)\n",
        "ci_lower = mean_pnl_d - z_crit * se_d\n",
        "ci_upper = mean_pnl_d + z_crit * se_d\n",
        "\n",
        "print(f\"expectation: {mean_pnl_d:.4f}\")\n",
        "print(f\"std dev: {std_pnl_d:.4f}\")\n",
        "print(f\"95% CI: [{ci_lower:.4f}, {ci_upper:.4f}]\")"
      ],
      "metadata": {
        "colab": {
          "base_uri": "https://localhost:8080/",
          "height": 0
        },
        "id": "6GMc3614-pa9",
        "outputId": "e063651a-bf0a-42fa-ff7b-2ff43eeee49b"
      },
      "execution_count": 11,
      "outputs": [
        {
          "output_type": "stream",
          "name": "stdout",
          "text": [
            "expectation: 0.0469\n",
            "std dev: 0.2863\n",
            "95% CI: [0.0413, 0.0525]\n"
          ]
        }
      ]
    },
    {
      "cell_type": "markdown",
      "source": [
        "**Based on the two statistics results in c and d, we can see that:**\n",
        "\n",
        "- **In terms of expected returns, short and hold in (d) is positive at around +4.69%, and momentum strategy in (c) slightly positive at 0.46%**\n",
        "\n",
        "\n",
        "- **Both strategies have similar standard deviations of approximately 0.28, so they are roughly the same volatility of outcomes.**\n",
        "\n",
        "- **Short Apple in (d) also has a narrower CI which is entirely above 0. Momentum approach in (c) yields near zero or slightly negative on average based on its CI.**\n",
        "\n",
        "\n",
        "**Therefore, shorting Apple for that year in (d) with a iid assumptions outperforms the momentum trading approach in (c) given similar risk**\n"
      ],
      "metadata": {
        "id": "8n7aRW6X0ihZ"
      }
    },
    {
      "cell_type": "markdown",
      "metadata": {
        "id": "bjrWL1ITGbcD"
      },
      "source": [
        "### <a id='toc1_2_5_'></a>[(e)](#toc0_)"
      ]
    },
    {
      "cell_type": "markdown",
      "metadata": {
        "id": "Ekse0cUBGbcD"
      },
      "source": [
        "Now, suppose Alice is a portfolio manager who only invests in these 3 stocks. She uses the same assumptions as you (i.i.d. jointly normal distributed returns). Her strategy is as follows:\n",
        "\n",
        "* At day $t$, after know the return vector $R_t=(r_{1t}, r_{2t}, r_{3t})^\\top\\in\\mathbb{R}^3$, find out stocks perform the best/worst at day $t$, and long the best 1 dollar and short the worst 1 dollar;\n",
        "\n",
        "* For example, if at day 1, the returns of APPLE, AMAZON, NVIDIA are 0.01, -0.01, 0.02, respectively, then Alice will long 1 dollar NVIDIA and short 1 dollar AMAZON.\n",
        "\n",
        "Using simulation to find out the expectation and the standard deviation of Alice's PnL in 2019."
      ]
    },
    {
      "cell_type": "code",
      "source": [
        "# Alice's strategy\n",
        "def alice_strategy_simulation(mu, cov, replications, N=252):\n",
        "    pnl_results = []\n",
        "\n",
        "    for _ in range(replications):\n",
        "        returns = np.random.multivariate_normal(mu, cov, size=N)\n",
        "        daily_pnl = returns.max(axis=1) - returns.min(axis=1)\n",
        "        total_pnl = np.sum(daily_pnl)\n",
        "        pnl_results.append(total_pnl)\n",
        "\n",
        "    return np.array(pnl_results)"
      ],
      "metadata": {
        "id": "pIQIlRGn9t2h"
      },
      "execution_count": 12,
      "outputs": []
    },
    {
      "cell_type": "code",
      "source": [
        "# excute the simulation using the previous defined parameters\n",
        "mu = mu_hat.values\n",
        "cov = Sigma_hat.values\n",
        "alice_pnl_results = alice_strategy_simulation(mu, cov, num_sim)\n",
        "\n",
        "# stat of the results\n",
        "mean_pnl_e = np.mean(alice_pnl_results)\n",
        "std_pnl_e = np.std(alice_pnl_results)\n",
        "se_e = std_pnl_e / np.sqrt(len(alice_pnl_results))\n",
        "ci_lower_e = mean_pnl_e - z_crit * se_e\n",
        "ci_upper_e = mean_pnl_e + z_crit * se_e\n",
        "\n",
        "print(f\"expectation: {mean_pnl_e:.4f}\")\n",
        "print(f\"std dev: {std_pnl_e:.4f}\")\n",
        "print(f\"95% CI: ({ci_lower_e:.4f}, {ci_upper_e:.4f})\")"
      ],
      "metadata": {
        "colab": {
          "base_uri": "https://localhost:8080/",
          "height": 0
        },
        "id": "TxPNzBtB-l44",
        "outputId": "d071ab21-d41d-49e9-ab30-70b31f45c73c"
      },
      "execution_count": 13,
      "outputs": [
        {
          "output_type": "stream",
          "name": "stdout",
          "text": [
            "expectation: 6.8546\n",
            "std dev: 0.2390\n",
            "95% CI: (6.8499, 6.8593)\n"
          ]
        }
      ]
    },
    {
      "cell_type": "markdown",
      "source": [
        "**The expectation of Alice's PnL is 6.8546 and the standard deviation is 0.2390**"
      ],
      "metadata": {
        "id": "gY-LhR7sAYsr"
      }
    },
    {
      "cell_type": "markdown",
      "metadata": {
        "id": "_G5ZkZLPGbcD"
      },
      "source": [
        "### <a id='toc1_2_6_'></a>[(f)](#toc0_)\n",
        "\n"
      ]
    },
    {
      "cell_type": "markdown",
      "metadata": {
        "id": "MtiAcnhAGbcE"
      },
      "source": [
        "Below we provide real data of 2019. Repeat (c) and (e) using the real data instead of simulation. Compare the results with real data and simulations. Do you have any comment?"
      ]
    },
    {
      "cell_type": "code",
      "execution_count": 14,
      "metadata": {
        "id": "gc6ueCQwGbcE"
      },
      "outputs": [],
      "source": [
        "df_2019 = pd.read_csv(\"assignment1_df_2019.csv\")\n",
        "df_aapl_2019 = get_returns(df_2019, \"AAPL\")\n",
        "df_amzn_2019 = get_returns(df_2019, \"AMZN\")\n",
        "df_nvda_2019 = get_returns(df_2019, \"NVDA\")"
      ]
    },
    {
      "cell_type": "code",
      "execution_count": 15,
      "metadata": {
        "id": "C841t8FFGbcE"
      },
      "outputs": [],
      "source": [
        "# momentum trading with 2019 data instead of simulation\n",
        "def momentum_trading(returns):\n",
        "    position = 0\n",
        "    total_pnl = 0.0\n",
        "\n",
        "    for r in returns:\n",
        "        total_pnl += position * r\n",
        "        position = 1 if r > 0 else -1\n",
        "\n",
        "    return total_pnl"
      ]
    },
    {
      "cell_type": "code",
      "source": [
        "# # mean and var in 2019\n",
        "# mean_aapl_2019 = df_aapl_2019.mean()\n",
        "# var_aapl_2019 = df_aapl_2019.var()\n",
        "\n",
        "# # actual trading days in 2019\n",
        "# def get_actual_trading_days(df, stock_name):\n",
        "#     df_stock = df[df[\"stock_name\"] == stock_name].sort_values(\"date\")\n",
        "#     return len(df_stock[\"price_close\"].dropna()) - 1\n",
        "\n",
        "# actual_days_aapl = get_actual_trading_days(df_2019, \"AAPL\")\n",
        "# print(f\"actual trading days for aapl: {actual_days_aapl}\")"
      ],
      "metadata": {
        "id": "M4IP52y3H-uc"
      },
      "execution_count": 16,
      "outputs": []
    },
    {
      "cell_type": "code",
      "source": [
        "# calculate the pnl\n",
        "real_pnl_2019 = momentum_trading(df_aapl_2019)\n",
        "print(real_pnl_2019)"
      ],
      "metadata": {
        "colab": {
          "base_uri": "https://localhost:8080/",
          "height": 0
        },
        "id": "k9FbGtZcIAFg",
        "outputId": "9fadf7e7-213f-4a3f-d2bf-d63f9e50d6aa"
      },
      "execution_count": 17,
      "outputs": [
        {
          "output_type": "stream",
          "name": "stdout",
          "text": [
            "0.19283299431945267\n"
          ]
        }
      ]
    },
    {
      "cell_type": "code",
      "source": [
        "# Visualize the comparisons for Momentum\n",
        "plt.figure(figsize=(10,6))\n",
        "plt.hist(pnl_results, bins=50, density=True, alpha=0.6, label='simulation 2018')\n",
        "plt.axvline(real_pnl_2019, color='r', linestyle='--', label='real 2019')\n",
        "plt.title(\"Momentum Stategyes 2018 Simulation vs. 2019 Real Data\")\n",
        "plt.xlabel(\"Total PnL\")\n",
        "plt.ylabel(\"Density\")\n",
        "plt.legend()\n",
        "plt.show()"
      ],
      "metadata": {
        "colab": {
          "base_uri": "https://localhost:8080/",
          "height": 564
        },
        "id": "_NCCeECbKDij",
        "outputId": "6ee125fa-3581-4fa5-ef8b-a407b3791770"
      },
      "execution_count": 23,
      "outputs": [
        {
          "output_type": "display_data",
          "data": {
            "text/plain": [
              "<Figure size 1000x600 with 1 Axes>"
            ],
            "image/png": "[encoded data removed]"
          },
          "metadata": {}
        }
      ]
    },
    {
      "cell_type": "markdown",
      "source": [
        "**Accoding to the calculation, the real PnL is above the mean of the simulation, but still well within one standard deviation 0.28 that we calculated in (c).**\n",
        "\n",
        "**Beside, based on the plot we can see that the 2019 actually came in a little better and is on the right side of that distribution.**\n",
        "\n",
        "**Therefore, the actual 2019 result was a bit better than the models expected in part c.**"
      ],
      "metadata": {
        "id": "uH5snIKzKeFw"
      }
    },
    {
      "cell_type": "code",
      "execution_count": 19,
      "metadata": {
        "id": "Qs4q6rV3GbcE"
      },
      "outputs": [],
      "source": [
        "# portfolio trading with 2019 data instead of simulation\n",
        "def alice_strategy(returns):\n",
        "    daily_pnl = returns.max(axis=1) - returns.min(axis=1)\n",
        "    total_pnl = daily_pnl.sum()\n",
        "    return total_pnl"
      ]
    },
    {
      "cell_type": "code",
      "source": [
        "# get the returns\n",
        "aapl_2019 = df_aapl_2019.values\n",
        "amzn_2019 = df_amzn_2019.values\n",
        "nvda_2019 = df_nvda_2019.values\n",
        "returns_2019 = np.column_stack([aapl_2019, amzn_2019, nvda_2019])"
      ],
      "metadata": {
        "id": "9vPZRCihH77u"
      },
      "execution_count": 20,
      "outputs": []
    },
    {
      "cell_type": "code",
      "source": [
        "alice_pnl_2019 = alice_strategy(returns_2019)\n",
        "print(alice_pnl_2019)"
      ],
      "metadata": {
        "colab": {
          "base_uri": "https://localhost:8080/",
          "height": 0
        },
        "id": "dWAaMossITJq",
        "outputId": "018c5b2e-3736-4aeb-c59b-12fc372023e2"
      },
      "execution_count": 21,
      "outputs": [
        {
          "output_type": "stream",
          "name": "stdout",
          "text": [
            "5.128639809240984\n"
          ]
        }
      ]
    },
    {
      "cell_type": "code",
      "source": [
        "# Visualize the comparisons for Momentum\n",
        "plt.figure(figsize=(10,6))\n",
        "plt.hist(alice_pnl_results, bins=50, density=True, alpha=0.6, label='simulation 2018')\n",
        "plt.axvline(alice_pnl_2019, color='r', linestyle='--', label='real 2019')\n",
        "plt.title(\"Alice Stategyes 2018 Simulation vs. 2019 Real Data\")\n",
        "plt.xlabel(\"Total PnL\")\n",
        "plt.ylabel(\"Density\")\n",
        "plt.legend()\n",
        "plt.show()"
      ],
      "metadata": {
        "colab": {
          "base_uri": "https://localhost:8080/",
          "height": 564
        },
        "id": "e35QaNuAL4vg",
        "outputId": "d0ea07d3-d6fc-4205-a1e5-0cc0554b0d44"
      },
      "execution_count": 24,
      "outputs": [
        {
          "output_type": "display_data",
          "data": {
            "text/plain": [
              "<Figure size 1000x600 with 1 Axes>"
            ],
            "image/png": "[encoded data removed]"
          },
          "metadata": {}
        }
      ]
    },
    {
      "cell_type": "markdown",
      "source": [
        "**It was significantly below what we simulated using 2018 data.**"
      ],
      "metadata": {
        "id": "J1ntamYuM6qS"
      }
    },
    {
      "cell_type": "markdown",
      "metadata": {
        "id": "9-V2U-zwGbcF"
      },
      "source": [
        "* Below are optional writing problems."
      ]
    },
    {
      "cell_type": "code",
      "source": [
        "!jupyter nbconvert --to html /content/drive/MyDrive/IEOR231/A1/assignment1.ipynb"
      ],
      "metadata": {
        "colab": {
          "base_uri": "https://localhost:8080/"
        },
        "id": "b0Psp6voRlZv",
        "outputId": "47b5e5e4-091a-48c7-a775-1a137feaed3f"
      },
      "execution_count": 25,
      "outputs": [
        {
          "output_type": "stream",
          "name": "stdout",
          "text": [
            "[NbConvertApp] Converting notebook /content/drive/MyDrive/IEOR231/A1/assignment1.ipynb to html\n",
            "[NbConvertApp] WARNING | Alternative text is missing on 3 image(s).\n",
            "[NbConvertApp] Writing 463453 bytes to /content/drive/MyDrive/IEOR231/A1/assignment1.html\n"
          ]
        }
      ]
    },
    {
      "cell_type": "markdown",
      "metadata": {
        "id": "BV50aVBXGbcF"
      },
      "source": [
        "## <a id='toc1_3_'></a>[Q2: Covariance matrix (Optional)](#toc0_)"
      ]
    },
    {
      "cell_type": "markdown",
      "metadata": {
        "id": "TYZIEHVxGbcF"
      },
      "source": [
        "### <a id='toc1_3_1_'></a>[(a)](#toc0_)\n",
        "In Q1, we estimate the covariance matrix of $K=3$ stocks using $N=251$ days' data through the sample covariance matrix.\n",
        "\n",
        "In practice, we care about $K>3000$ stocks with sometimes only 10 years' ($N\\approx 2520$ days') data. Let's assume the return vector $R$ of $K$ stocks follows $\\mathcal{N}(\\mu,\\Sigma)$, and we still estimate it through the sample covariance matrix:\n",
        "\n",
        "$$\\hat\\mu = \\frac{1}{N}\\sum_{i=1}^N R_i,$$\n",
        "$$\\hat\\Sigma = \\frac{1}{N}\\sum_{i=1}^N(R_i-\\hat{\\mu})(R_i-\\hat{\\mu})^\\top$$\n",
        "\n",
        "Show that $\\operatorname{rank}(\\hat\\Sigma)\\leq N$."
      ]
    },
    {
      "cell_type": "markdown",
      "metadata": {
        "id": "1uLbsjVrGbcF"
      },
      "source": [
        "### <a id='toc1_3_2_'></a>[(b)](#toc0_)\n",
        "It's known sample covariance matrix is a terrible estimation of $\\Sigma$ when $K$ and $N$ have the same order. To see this in our above example, we have\n",
        "$$\\operatorname{rank}(\\hat\\Sigma)\\leq N\\approx 2520<3000<K,$$\n",
        "which means if $\\Sigma$ is of full rank (so $\\operatorname{rank}(\\Sigma)=K$), then our estimaton $\\hat\\Sigma$ always has much smaller rank!\n",
        "\n",
        "To deal with this issue, one (actually oversimplified) way is to further assume $\\Sigma$ has a very simple structure as follows:\n",
        "\n",
        "1. The correlation matrix is: $$\\operatorname{corr}(R)=re_Ke_K^\\top+(1-r)I_K,$$\n",
        "where $I_K\\in\\mathbb{R}^{K\\times K}$ is the identity matrix, and $e_K\\in\\mathbb{R}^{K\\times 1}$ is a vector with all elements 1.\n",
        "\n",
        "2. $\\Sigma=\\operatorname{diag}(\\operatorname{Var}(R_1),\\cdots,\\operatorname{Var}(R_K))^{\\frac{1}{2}}\\operatorname{corr}(R)\\left(\\operatorname{diag}(\\operatorname{Var}(R_1),\\cdots,\\operatorname{Var}(R_K))^{\\frac{1}{2}}\\right)^\\top$.\n",
        "\n",
        "In this way, we only need to estimate variances of each of $K$ stocks and a parameter $r$, in total $K+1$ parameters.\n",
        "\n",
        "Now, calculate all eigenvalues of $\\operatorname{corr}(R)$ and corresponding eigenvectors (in terms of $r$)."
      ]
    },
    {
      "cell_type": "markdown",
      "metadata": {
        "id": "_JJd7OYTGbcF"
      },
      "source": [
        "### <a id='toc1_3_3_'></a>[(c)](#toc0_)\n",
        "As we known, the correlation matrix must be positive semi-definite (PSD), i.e. all eigenvalues must be non-negative. Based on your results in (b), what's the possible range of $r$?"
      ]
    },
    {
      "cell_type": "markdown",
      "metadata": {
        "id": "vmEHMSSZGbcF"
      },
      "source": [
        "### <a id='toc1_3_4_'></a>[(d)](#toc0_)"
      ]
    },
    {
      "cell_type": "markdown",
      "metadata": {
        "id": "NceUs3HMGbcF"
      },
      "source": [
        "Also, prove that, for any PSD matrix $A\\in\\mathbb{R}^{K\\times K}$, you can always construct $K$ normally distributed variables, whose covariance matrix is exactly $A$."
      ]
    },
    {
      "cell_type": "markdown",
      "metadata": {
        "id": "9-k81LloGbcG"
      },
      "source": [
        "## <a id='toc1_4_'></a>[Q3: More on momentum trading (Optional)](#toc0_)\n"
      ]
    },
    {
      "cell_type": "markdown",
      "metadata": {
        "id": "0IFcQT8dGbcG"
      },
      "source": [
        "In this question, we provide some theoretical analysis on the momentum trading strategy we mentioned in Q1."
      ]
    },
    {
      "cell_type": "markdown",
      "metadata": {
        "id": "lhOw8KeYGbcG"
      },
      "source": [
        "### <a id='toc1_4_1_'></a>[(a)](#toc0_)\n",
        "\n",
        "Suppose there is a stock whose **price** at day $t$ is given by $p_t$. Now let's define $\\Delta_t=p_t-p_{t-1}$, and assume $\\Delta_t$ are i.i.d. as $P(\\Delta=1)=p$ and $P(\\Delta=-1)=1-p$.\n",
        "\n",
        "Now, our momentum trading strategy is given by:\n",
        "\n",
        "* At day $t$, after observe $p_t$, if $\\Delta_t=1$, we long 1 share at the current price $p_t$ (which means long $p_t$ dollars), otherwise we short 1 share.\n",
        "\n",
        "* After $N=252$ days, we sell all shares and calculate our PnL.\n",
        "\n",
        "Now, write down the mathematical formulation of your final PnL in the terms of $\\Delta_1,\\cdots,\\Delta_N$."
      ]
    },
    {
      "cell_type": "markdown",
      "metadata": {
        "id": "IDnvpDI0GbcG"
      },
      "source": [
        "### <a id='toc1_4_2_'></a>[(b)](#toc0_)\n",
        "Based on your results in (a), calculate the expectation and the variance of your final PnL."
      ]
    },
    {
      "cell_type": "markdown",
      "metadata": {
        "id": "gD5sDIRQGbcH"
      },
      "source": [
        "### <a id='toc1_4_3_'></a>[(c)](#toc0_)\n",
        "What is the expectation and the variance of my PnL, if I have 1 share stock at the beginning and simply hold it for 252 days? Compare (b) and (c)."
      ]
    },
    {
      "cell_type": "markdown",
      "metadata": {
        "id": "OrjbTIqNGbcH"
      },
      "source": [
        "### <a id='toc1_4_4_'></a>[(d)](#toc0_)\n",
        "In previous parts, we always assume $\\Delta$ are i.i.d.; Now, if we still believe all $\\Delta_t$ are identically distributed, but assume $\\operatorname{Cov}(\\Delta_{t-1}, \\Delta_t)=\\rho>0$ and $\\operatorname{Cov}(\\Delta_{t-j}, \\Delta_t)=0$ for $j>1$, what will happen to your expected PnL?"
      ]
    },
    {
      "cell_type": "markdown",
      "metadata": {
        "id": "q4mjYn4kGbcH"
      },
      "source": [
        "## <a id='toc1_5_'></a>[Q4: Volatility loss (Optional)](#toc0_)"
      ]
    },
    {
      "cell_type": "markdown",
      "metadata": {
        "id": "korvBynDGbcb"
      },
      "source": [
        "Suppose we are investing a stock. The daily returns $R_i$ of the stock are i.i.d. as $P(R=0.5)=0.5$ and $P(R=-0.5)=-0.5$. Suppose we invest 1 dollar at day 0. Then after $N$ days it becomes $V_N=\\Pi_{i=1}^N(1+R_i)$."
      ]
    },
    {
      "cell_type": "markdown",
      "metadata": {
        "id": "c8mGgSd4Gbcc"
      },
      "source": [
        "### <a id='toc1_5_1_'></a>[(a)](#toc0_)\n",
        "\n",
        "Show that $\\mathbb{E}V_N=1$."
      ]
    },
    {
      "cell_type": "markdown",
      "metadata": {
        "id": "04GioBogGbcc"
      },
      "source": [
        "### <a id='toc1_5_2_'></a>[(b)](#toc0_)\n",
        "Instead, show that the geometric mean $V_N^{\\frac{1}{N}}$ converges to some $\\rho_{0.5}<1$ almost surely as $N\\to+\\infty$.\n",
        "\n",
        "(Hint: the strong law of large number says, for i.i.d. random variables $X_i$ with $\\mathbb{E}\\vert X\\vert<+\\infty$, $\\frac{1}{N}\\sum_{i=1}^N{X_i}$ converges to $\\mathbb{E}X$ almost surely as $N\\to+\\infty$.)\n",
        "\n",
        "* Remark: (a) and (b) show that, though in expectation we will not lose money, but in the long run we will almost surely lose money."
      ]
    },
    {
      "cell_type": "markdown",
      "metadata": {
        "id": "zA3aLP-dGbcc"
      },
      "source": [
        "### <a id='toc1_5_3_'></a>[(c)](#toc0_)\n",
        "\n",
        "If now we believe this stock is more volatile, so we assume $P(R=0.9)=0.5$ and $P(R=-0.9)=-0.5$, show that $V_N^{\\frac{1}{N}}$ now converges to some $\\rho_{0.9}<\\rho_{0.5}$ almost surely as $N\\to+\\infty$."
      ]
    }
  ],
  "metadata": {
    "kernelspec": {
      "display_name": "base",
      "language": "python",
      "name": "python3"
    },
    "language_info": {
      "codemirror_mode": {
        "name": "ipython",
        "version": 3
      },
      "file_extension": ".py",
      "mimetype": "text/x-python",
      "name": "python",
      "nbconvert_exporter": "python",
      "pygments_lexer": "ipython3",
      "version": "3.10.9"
    },
    "colab": {
      "provenance": []
    }
  },
  "nbformat": 4,
  "nbformat_minor": 0
}