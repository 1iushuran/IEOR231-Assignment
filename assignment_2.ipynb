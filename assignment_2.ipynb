{
  "cells": [
    {
      "cell_type": "markdown",
      "metadata": {
        "id": "view-in-github",
        "colab_type": "text"
      },
      "source": [
        "<a href=\"https://colab.research.google.com/github/1iushuran/IEOR231-Assignment/blob/A2/assignment_2.ipynb\" target=\"_parent\"><img src=\"https://colab.research.google.com/assets/colab-badge.svg\" alt=\"Open In Colab\"/></a>"
      ]
    },
    {
      "cell_type": "markdown",
      "metadata": {
        "id": "ilX_J25e3gUv"
      },
      "source": [
        "# <a id='toc1_'></a>[IEOR 231 (25spring) Assignment 2](#toc0_)\n",
        "This assignment consists of two questions: one on simulating a retail center and the other on simulating a bandit problem. Each question includes multiple sub-questions designed to guide you step by step through solving the simulation problems. The parameters in each question are provided incrementally, and unless otherwise specified, once a parameter is defined, it applies to all subsequent parts.\n",
        "\n",
        "We provide examples and guidance code to help you complete the assignment. Your task is to fill in the codes in cells marked with `### TODO`. For some questions, we have partially implemented the code with statings and ends to make completion easier—you only need to complete the required functions or classes.\n"
      ]
    },
    {
      "cell_type": "markdown",
      "metadata": {
        "id": "f_ibOjR93gUx"
      },
      "source": [
        "**Table of contents**<a id='toc0_'></a>    \n",
        "  - [Question 1: Simulation of a retailing center](#toc1)    \n",
        "    - [Q1.0 Overview of the Retailing Center](#toc1_0)    \n",
        "    - [Q1.1 Simulate the queue in the retailing center and estimate waiting time](#toc1_1)    \n",
        "      - [Q1.1.1 Intensity of arrival rate](#toc1_1_1)   \n",
        "      - [Q1.1.2 Thinning method for simulating non-homogenous arrivals](#toc1_1_2)\n",
        "      - [Q1.1.3 Simulate customer demand and service time](#toc1_1_3)\n",
        "      - [Q1.1.4 Simulate the queue and waiting time](#toc1_1_4)\n",
        "        - [Q1.1.4 (a) Simulation of the queue for one day](#toc1_1_4_a)\n",
        "        - [Q1.1.4 (b) Simulation of the queue and waiting time for one day](#toc1_1_4_b)\n",
        "    - [Q1.2 Price Boosting and optimization](#toc1_2)\n",
        "      - [Q1.2.1 Queue simulation with price factors](#toc1_2_1)\n",
        "      - [Q1.2.2 Finding the optimal price factor](#toc1_2_2)\n",
        "    - [Q1.3 Inventory management of retail center](#toc1_3)\n",
        "  - [Question 2: Multi-Armed Bandit](#toc2)    \n",
        "    - [Q2.1 Inplementation of Bernoulli and Gaussian bandit](#toc2_1)\n",
        "    - [Q2.2 Inplementation of Espsilon-greedy and Upper Confidence Bound](#toc2_2)\n",
        "    - [Q2.3 Simulation and Regret Calculation](#toc2_3)\n",
        "\n",
        "  \n"
      ]
    },
    {
      "cell_type": "markdown",
      "metadata": {
        "id": "Tc23UbvG3gUx"
      },
      "source": [
        "# <a id='toc1'></a>[Question 1: Simulation of a retailing center](#toc0_)\n",
        "\n",
        "## <a id='toc1_0'></a>[Q1.0 Overview of the Retailing Center](#toc0_)\n",
        "\n",
        "In Question 1, we model a simplified retailing center operating over a day (8 am–8 pm) where customers arrive according to a non-homogeneous Poisson process, request multiple products, and are served on a first-come, first-served (FIFO) basis. The system operates according to the following schema:\n",
        "\n",
        "+ **Products:** The center stocks and sells $d = 5$ different products, the number of product can be fractional.\n",
        "+ **Server:** There is a single centralized server managing all customer requests.\n",
        "+ **Arrival Process:** Customers arrive sequentially between 8 am and 8 pm according to a non-homogeneous Poisson process and the center will serve all customers arrived. The arrival rate $\\lambda(t)$ is defined by a general piecewise linear function:\n",
        "  \n",
        "  $$\n",
        "  \\lambda(t) =\n",
        "  \\begin{cases}\n",
        "  \\lambda_0 + \\left(\\dfrac{\\lambda_{\\text{peak}} - \\lambda_0}{T_1 - T_0}\\right)(t - T_0) & \\text{for } T_0 \\leq t \\leq T_1, \\\\[10pt]\n",
        "  \\lambda_{\\text{peak}} - \\left(\\dfrac{\\lambda_{\\text{peak}} - \\lambda_{\\text{end}}}{T_2 - T_1}\\right)(t - T_1) & \\text{for } T_1 < t < T_2,\\\\\n",
        "  0 & \\text{for }  t \\geq T_2 \\text{ or } t<T_0\n",
        "  \\end{cases}\n",
        "  $$\n",
        "  where:\n",
        "  - $T_0 = 8$ am,\n",
        "  - $T_1 = 12$ pm,\n",
        "  - $T_2 = 20$ pm,\n",
        "  - $\\lambda_0$ is the arrival rate at 8 am,\n",
        "  - $\\lambda_{\\text{peak}}$ is the peak arrival rate at 12 pm, and\n",
        "  - $\\lambda_{\\text{end}}$ is the arrival rate at 8 pm.\n",
        "\n",
        "+ **Customer Demand:** Each customer has an independent demand for the 5 different products, represented by the vector $(D_1, D_2, \\cdots, D_5)$, drawn from a joint lognormal distribution $\\text{Lognormal}(\\mu,\\Sigma)$.\n",
        "\n",
        "+ **Service Time:** The server processes customers in FIFO order. The service time required for each customer follows a lognormal random variable with mean\n",
        "  $\n",
        "  m = \\sum_{i=1}^{5} a_i D_i,\n",
        "  $\n",
        "\n",
        "  and variance\n",
        "  $\n",
        "  \\text{Var} = \\left(\\sum_{i=1}^{5} a_i D_i\\right)^2,\n",
        "  $\n",
        "  where the coefficients $(a_1, a_2, \\cdots, a_5)$ are pre-specified. This service time reflects the effort needed to prepare, sort, and move the products in real time.\n",
        "  \n",
        "Detailed values of variables and parameters will be introduced in the questions.\n"
      ]
    },
    {
      "cell_type": "markdown",
      "metadata": {
        "id": "se2gya7p3gUx"
      },
      "source": [
        "## <a id='toc1_1'></a>[Q1.1 Simulate the queue in the retailing center and estimate waiting time](#toc0_)\n",
        "In this question, we will simulate the queuing in the retail center with non-homogeneous arrival and lognormal service time in the retailing center from scratch. We will first simulate the non-homogeneous arriving process using thinning method, and then simulate the one-day queuing in the retail center. Our final target is to estimate the distribution of waiting time.\n",
        "\n",
        "***Notes: For Q1.1 you can assume that the retail center has infinite supply for all products, and currently you do not need to consider the price boosting factor in Q1.2.***\n",
        "\n"
      ]
    },
    {
      "cell_type": "markdown",
      "metadata": {
        "id": "jdqHYokG3gUy"
      },
      "source": [
        "### <a id='toc1_1_1'></a>[Q1.1.1 Intensity of arrival rate](#toc0_)\n",
        "To get started, let's warm up by implementing python function `intensity(t)` for the arriving rate $\\lambda(t)$, which will return the arriving rate at any given time $t\\in[0,24)$. The parameters are set as $\\lambda_0 = 10$, $\\lambda_{peak} = 25$ and $\\lambda_{end} = 8$.    "
      ]
    },
    {
      "cell_type": "code",
      "execution_count": null,
      "metadata": {
        "id": "i6EedIPr3gUy"
      },
      "outputs": [],
      "source": [
        "import numpy as np\n",
        "import matplotlib.pyplot as plt\n",
        "\n",
        "### parameters for the simulation\n",
        "lambda0 = 10\n",
        "lambda_peak = 25\n",
        "lambda_end = 8"
      ]
    },
    {
      "cell_type": "code",
      "execution_count": null,
      "metadata": {
        "id": "H6TJ1s2i3gUy"
      },
      "outputs": [],
      "source": [
        "### TODO: Implement intensity function\n",
        "def intensity(t):\n",
        "    \"\"\"Piecewise linear intensity function, where t in [0,24].\"\"\"\n",
        "    T0 = 8\n",
        "    T1 = 12\n",
        "    T2 = 20\n",
        "    # construct the intensity based on the above piecewise function\n",
        "    if t < T0 or t >= T2:\n",
        "        return 0\n",
        "    elif T0 <= t <= T1:\n",
        "        return lambda0 + ((lambda_peak - lambda0) / (T1 - T0)) * (t - T0)\n",
        "    else:\n",
        "        return lambda_peak - ((lambda_peak - lambda_end) / (T2 - T1)) * (t - T1)"
      ]
    },
    {
      "cell_type": "markdown",
      "metadata": {
        "id": "kLPZw8um3gUy"
      },
      "source": [
        "### <a id='toc1_1_2'></a>[Q1.1.2 Thinning method for simulating non-homogenous arrivals](#toc0_)\n",
        "\n",
        "The thinning algorithm is a method for simulating non-homogeneous Poisson process, and let's review the following key steps:\n",
        "\n",
        "1. **Determine an Upper Bound:**  \n",
        "   Identify a constant $ \\lambda_{\\text{max}} $ such that $ \\lambda(t) \\leq \\lambda_{\\text{max}} $ for all $t$ in the simulation interval. In this problem the $\\lambda_{\\text{peak}}$ is a good choice.\n",
        "\n",
        "2. **Generate Candidate Arrivals:**  \n",
        "   Simulate a homogeneous Poisson process with the constant rate $ \\lambda_{\\text{max}} $ to generate candidate arrival times. This can be achieved through using Exponential distribution $\\text{Exp}(\\frac{1}{\\lambda})$ with `np.random.exponential()`.\n",
        "\n",
        "3. **Acceptance/Rejection Step:**  \n",
        "   For each candidate arrival time $t$, accept the arrival with probability  \n",
        "   $$ p_{accept} = \\frac{\\lambda(t)}{\\lambda_{\\text{max}}} $$  \n",
        "   Otherwise, reject the candidate. This step ensures that the accepted arrivals follow the desired time-varying rate $ \\lambda(t) $.\n",
        "\n",
        "Now, let's implement the `simulate_arrivals(lambda_max=lambda_peak)`, which returns the array of cutsomers' arrival time in a day.\n"
      ]
    },
    {
      "cell_type": "code",
      "execution_count": null,
      "metadata": {
        "id": "dV14QS6L3gUz"
      },
      "outputs": [],
      "source": [
        "T = 24 # indicating the hours in a day"
      ]
    },
    {
      "cell_type": "code",
      "execution_count": null,
      "metadata": {
        "colab": {
          "base_uri": "https://localhost:8080/"
        },
        "id": "uG6y4_w53gUz",
        "outputId": "fb3b689a-96a2-4143-8f53-eac46226d15e"
      },
      "outputs": [
        {
          "output_type": "stream",
          "name": "stdout",
          "text": [
            "arrivals b4 8am (no arrivals): []\n",
            "arrival after 8pm (no arrivals): []\n"
          ]
        }
      ],
      "source": [
        "### TODO: complete simulate_arrivals function with thinning algorithm\n",
        "def simulate_arrivals(lambda_max=lambda_peak):\n",
        "    arrivals = []\n",
        "    t = 0\n",
        "    ###TODO: Implement the while loop to simulate the arrival process\n",
        "    while t < T:\n",
        "        t += np.random.exponential(1 / lambda_max)\n",
        "\n",
        "        ## if out of period\n",
        "        if t >= T:\n",
        "            break\n",
        "\n",
        "        p_accept = intensity(t) / lambda_max\n",
        "\n",
        "        ## accept with this prob\n",
        "        if np.random.uniform() < p_accept:\n",
        "            arrivals.append(t)\n",
        "\n",
        "    return np.array(arrivals)\n",
        "\n",
        "### Tips: you can test your codes by testing arrivals < 8 and arrivals >= 20, which should be 0 since no arrivals in these time intervals.\n",
        "# morning_arrivals = arrivals[arrivals < 8]\n",
        "# afternoon_arrivals = arrivals[arrivals >= 20]\n",
        "\n",
        "# Test our functions\n",
        "arrivals = simulate_arrivals()\n",
        "morning_arrivals = arrivals[arrivals < 8]\n",
        "afternoon_arrivals = arrivals[arrivals >= 20]\n",
        "\n",
        "print(\"arrivals b4 8am (no arrivals):\", morning_arrivals)\n",
        "print(\"arrival after 8pm (no arrivals):\", afternoon_arrivals)\n"
      ]
    },
    {
      "cell_type": "markdown",
      "metadata": {
        "id": "PaLcTc313gUz"
      },
      "source": [
        "### <a id='toc1_1_3'></a>[Q1.1.3 Simulate customer demand and service time](#toc0_)\n",
        "Now let's move to the demand and service time part. We have $d=5$ types of products in total for consideration. Each customer has an independent demand for the 5 different products, represented by the vector $(D_1, D_2, \\cdots, D_5)$, drawn from a joint lognormal distribution $\\text{Lognormal}(\\mu,\\Sigma)$ (parameters in the following block). We directly provide you with two functions that might be useful in the following simulation:\n",
        "1. `simulate_demand(mu, Sigma)`: simulate the demand for one customer\n",
        "2. `lognormal_service_time(demand)`: turn the demand to service time\n",
        "\n",
        "For the parameters, we have\n",
        "+ $d = 5$\n",
        "+ $\\mu = np.array([0.5 , 0.7, 0.6, 0.5, 0.4])$\n",
        "+ $\\Sigma = np.eye(d)$  \n",
        "+ $a = np.array([10, 15, 5, 15, 10])/3600$"
      ]
    },
    {
      "cell_type": "code",
      "execution_count": null,
      "metadata": {
        "id": "Q_1THzK43gUz"
      },
      "outputs": [],
      "source": [
        "## Parameters for the demand\n",
        "d = 5  # number of products is 8\n",
        "mu = np.array([0.5 , 0.7, 0.6, 0.5, 0.4])\n",
        "Sigma = np.eye(d)\n",
        "a = np.array([10, 15, 5, 15, 10])/3600  # coefficients for products"
      ]
    },
    {
      "cell_type": "code",
      "execution_count": null,
      "metadata": {
        "id": "hvRS9hAJ3gUz"
      },
      "outputs": [],
      "source": [
        "def simulate_demand(mu=mu, Sigma=Sigma):\n",
        "    return np.exp(np.random.multivariate_normal(mu, Sigma))\n",
        "\n",
        "def lognormal_service_time(demand):\n",
        "    m = np.dot(a, demand)  # mean service time based on demand\n",
        "    sigma2 = np.log(2)\n",
        "    sigma = np.sqrt(sigma2)\n",
        "    mu = np.log(m) - sigma2/2 if m > 0 else 0.0  # avoid log(0)\n",
        "    # Draw from a lognormal distribution with parameters mu and sigma.\n",
        "    return np.random.lognormal(mean=mu, sigma=sigma)"
      ]
    },
    {
      "cell_type": "markdown",
      "metadata": {
        "id": "pWiFJ4Vh3gUz"
      },
      "source": [
        "### <a id='toc1_1_4'></a>[Q1.1.4 Simulate the queue and waiting time](#toc0_)"
      ]
    },
    {
      "cell_type": "markdown",
      "metadata": {
        "id": "sf5DlfeR3gUz"
      },
      "source": [
        "#### <a id='toc1_1_4_a'></a>[Q1.1.4 (a) Simulation of the queue for one day](#toc0_)\n",
        "Here we provide one **guided approach** to help you implement the queue simulation with `simulate_queue(arrivals)` which take a array of arrival time already simulated as input. You may also design your own functions for demand and service time as long as you return the required outputs.\n",
        "\n",
        "1. **Define the Function**  \n",
        "   - Create `simulate_queue(arrivals)` where `arrivals` is an array of arrival time simulated with `simulate_arrivals(lambda_max)`.\n",
        "\n",
        "2. **Simulate Demand**  \n",
        "   - For each arrival, generate a demand (e.g., with a `simulate_demand()` function).\n",
        "\n",
        "3. **Derive Service Times**  \n",
        "   - Convert the demands into service time (e.g., with a `lognormal_service_time()` function).\n",
        "\n",
        "4. **Track the Queue**  \n",
        "   - Use arrays or lists to record each arrived customer's:\n",
        "     - Waiting time\n",
        "     - Service start time\n",
        "     - Service end time\n",
        "\n",
        "5. **Calculate Waiting and Service Start**  \n",
        "   - For each customer, set the service start time to the maximum of:\n",
        "     - Their arrival time\n",
        "     - The previous customer’s service end time  \n",
        "   - Waiting time is the difference between the service start time and arrival time.\n",
        "\n",
        "6. **Calculate Service End**  \n",
        "   - For each customer, service end time is the sum of service start time and service time.\n",
        "\n",
        "7. **Return Results**  \n",
        "   - Return the list/array of waiting time for each arrived customer.\n",
        "\n",
        "\n",
        "If you have alternative approaches of implementing, as long as your implementation can simulate the queue and provide required outputs, you can customize the details to fit your own simulation design.\n",
        "\n",
        "***Task: Please complete the simulate_queue(arrivals) function.***"
      ]
    },
    {
      "cell_type": "code",
      "execution_count": null,
      "metadata": {
        "id": "kAeKw3XF3gUz"
      },
      "outputs": [],
      "source": [
        "### TODO: Implement simulate_queue function (suggested)\n",
        "def simulate_queue(arrivals):\n",
        "    n = len(arrivals)\n",
        "    demands = [simulate_demand(mu, Sigma) for _ in range(n)]\n",
        "    service_times = [lognormal_service_time(d) for d in demands]\n",
        "\n",
        "    waiting_times = np.zeros(n)\n",
        "    service_start_times = np.zeros(n)\n",
        "    service_end_times = np.zeros(n)\n",
        "\n",
        "    # For the first customer, waiting time is 0.\n",
        "    service_start_times[0] = arrivals[0]\n",
        "    service_end_times[0] = arrivals[0] + service_times[0]\n",
        "\n",
        "    ###TODO: Complete the for loop to simulate the queue and calculate waiting times\n",
        "    for i in range(1, n):\n",
        "        service_start_times[i] = max(arrivals[i], service_end_times[i - 1])\n",
        "        waiting_times[i] = service_start_times[i] - arrivals[i]\n",
        "        service_end_times[i] = service_start_times[i] + service_times[i]\n",
        "\n",
        "    return waiting_times\n"
      ]
    },
    {
      "cell_type": "markdown",
      "metadata": {
        "id": "bZXF-SIq3gUz"
      },
      "source": [
        "#### <a id='toc1_1_4_b'></a>[Q1.1.4 (b) Simulation of the queue and waiting time for one day](#toc0_)\n",
        "Using `simulate_arrivals(lambda_max=lambda_peak)`, we can generate all customer arrival times for a single day. Next, we call `simulate_queue(arrival)` to obtain each customer's waiting time. By repeating this simulation 100 times, we can report the mean waiting time for morning and afternoon arrivals.\n",
        "\n",
        "*Task: Please report the mean waiting time for customers whose arrivals are in the morning (before 12pm) and afternoon (after 12pm).*\n"
      ]
    },
    {
      "cell_type": "code",
      "execution_count": null,
      "metadata": {
        "colab": {
          "base_uri": "https://localhost:8080/"
        },
        "id": "z_nDmiW03gUz",
        "outputId": "7fd4bece-c449-476a-ab9f-7ae31c1a6640"
      },
      "outputs": [
        {
          "output_type": "stream",
          "name": "stdout",
          "text": [
            "Mean of waiting time for morning arrivals: 0.14327447833576076\n",
            "Mean of waiting time for afternoon arrivals: 0.3382909420790783\n"
          ]
        }
      ],
      "source": [
        "### TODO: Analysis and visualization of the waiting time distribution for morning arrivals and afternoon arrivals respectively.\n",
        "\n",
        "# simulation for 100 times\n",
        "repetitions = 100\n",
        "\n",
        "\n",
        "### TODO: Repeat the simulation for 100 times and calculate the mean of waiting time for morning arrivals and afternoon arrivals respectively.\n",
        "waiting_morning = []\n",
        "afternooon_waiting = []\n",
        "for _ in range(repetitions):\n",
        "    arrivals = simulate_arrivals(lambda_max=lambda_peak)\n",
        "    waiting_times = simulate_queue(arrivals)\n",
        "    i_m = arrivals < 12\n",
        "    i_a = arrivals >= 12\n",
        "\n",
        "    ## seperate the time for mornign and afternoon\n",
        "    waiting_morning.extend(waiting_times[i_m])\n",
        "    afternooon_waiting.extend(waiting_times[i_a])\n",
        "\n",
        "# convert the format\n",
        "waiting_morning = np.array(waiting_morning)\n",
        "afternooon_waiting = np.array(afternooon_waiting)\n",
        "\n",
        "# compute the mean waiting time\n",
        "mean_morning = np.mean(waiting_morning) if waiting_morning.size > 0 else 0.0\n",
        "mean_afternoon = np.mean(afternooon_waiting) if afternooon_waiting.size > 0 else 0.0\n",
        "\n",
        "### TODO: Report the results.\n",
        "print(\"Mean of waiting time for morning arrivals:\", mean_morning)\n",
        "print(\"Mean of waiting time for afternoon arrivals:\",mean_afternoon)"
      ]
    },
    {
      "cell_type": "markdown",
      "metadata": {
        "id": "STXs64-j3gUz"
      },
      "source": [
        "## <a id='toc1_2'></a>[Q1.2 Price Boosting and optimization](#toc0_)\n",
        "\n",
        "In this section, we analyze how adjusting the price boosting factor, denoted by $p \\in [1, 2]$, influences the overall performance of the retailing center. By applying a price boosting factor, the retailing center charges customers an increased price based on the value of $p$. However, this elevated charge may discourage some customers from entering the retail center.\n",
        "\n",
        "At the start of a day, the server sets a price boosting factor $p$. When a customer arrives, with probability $p-1$, the customer would not enter and shop in the retailing center. We can notice that when setting $p=1$, the situation is just the same as the setting we discussed in previous question, and when setting $p=2$, the retailing center would not serve any customer.\n",
        "\n",
        "Now, the retail center seeks to determine a price boosting factor $p$ that maximizes the following objective:\n",
        "$$\n",
        "\\max_p \\; \\mathbb{E}\\!\\Bigg[\n",
        "\\sum_{j=1}^{N} \\sum_{i=1}^{d} a_i \\, D_{ij}\n",
        "\\;-\\; c \\times \\Bigl(1 + \\sum_{j=1}^N W_j\\Bigr)^2\n",
        "\\Bigg],\n",
        "$$\n",
        "where:\n",
        "- $N$ is the number of customers ultimately served by the retail center after applying the price boosting factor $p$ for one day,  \n",
        "- $D_{ij}$ is the customer $j$'s demand for product $i$ ($j\\in[1,2,\\cdots,N]$ and $i\\in[1,2,\\cdots,d]$),  \n",
        "- $a_i$ is the coefficient defined earlier in Q1.1.3 for product $i$,  \n",
        "- $W_j$ is the waiting time experienced by customer $j$, and  \n",
        "- $c$ is a given cost parameter.\n",
        "\n",
        "\n",
        "***Notes: For Q1.2 you can assume that the retail center has infinite supply for all products.***"
      ]
    },
    {
      "cell_type": "markdown",
      "metadata": {
        "id": "Xm3tWS1x3gUz"
      },
      "source": [
        "### <a id='toc1_2_1'></a>[Q1.2.1 Queue simulation with price factors](#toc0_)\n",
        "Below, we will implement a function `simulate_queue_with_price(arrivals, p)` that models how the price boosting factor $p \\in [1,2]$ influences customer behavior. Each arriving customer observes the boosted price and, with probability $p - 1$, decides to leave immediately.\n",
        "\n",
        "**Function Requirements:**\n",
        "- **Inputs:**\n",
        "  1. `arrivals`: A list or array of arrival times for all customers.\n",
        "  2. `p`: A floating-point number in \\([1,2]\\) indicating the price boosting factor.\n",
        "- **Outputs:**\n",
        "  1. The list of waiting time of cusotmers (required)\n",
        "\n",
        "\n",
        "\n",
        "***Task: Please complete the simulate_queue_with_price(arrivals, p) function. Test your codes with $p=1.4$ and report the average of waiting time for morning and afternoon arrivals with 100 repetitions of simulation.***\n",
        "\n",
        "\n",
        "Hints: you can directly call `simulate_queue()` in your code for `simulate_queue_with_price(arrivals, p)`.\n",
        "\n"
      ]
    },
    {
      "cell_type": "code",
      "execution_count": null,
      "metadata": {
        "id": "QQjtPe-U3gUz"
      },
      "outputs": [],
      "source": [
        "p = 1.4  # boosting factor"
      ]
    },
    {
      "cell_type": "code",
      "execution_count": null,
      "metadata": {
        "id": "oWRvIcr93gU0"
      },
      "outputs": [],
      "source": [
        "### TODO: Implement simulate_queue_with_price function\n",
        "def simulate_queue_with_price(arrivals, p):\n",
        "    \"\"\"\n",
        "    Simulate the queue with price boosting.\n",
        "\n",
        "    Each customer is served with probability (1 - (p-1)).\n",
        "    If no customers are served, return empty arrays.\n",
        "\n",
        "    return the lists of indices of served customers and corresponding waiting times, you can return other information for analysis and future use.\n",
        "    \"\"\"\n",
        "    l = []\n",
        "    served_arr = []\n",
        "\n",
        "    for i, t in enumerate(arrivals):\n",
        "        if np.random.uniform() < (1 - (p-1)):\n",
        "            l.append(i)\n",
        "            served_arr.append(t)\n",
        "\n",
        "    served_arr = np.array(served_arr)\n",
        "\n",
        "    ## no customer joins\n",
        "    if len(served_arr) == 0:\n",
        "        return l, served_arr, np.array([])\n",
        "\n",
        "    waiting_times = simulate_queue(served_arr)\n",
        "    return l, served_arr, waiting_times\n"
      ]
    },
    {
      "cell_type": "code",
      "execution_count": null,
      "metadata": {
        "colab": {
          "base_uri": "https://localhost:8080/"
        },
        "id": "DMj7wd_y3gU0",
        "outputId": "b75bc089-a7bc-4bb4-c969-299c47516471"
      },
      "outputs": [
        {
          "output_type": "stream",
          "name": "stdout",
          "text": [
            "Mean of waiting time for morning arrivals with price boosting: 0.0614018873207903\n",
            "Mean of waiting time for afternoon arrivals with price boosting: 0.060684245995539746\n"
          ]
        }
      ],
      "source": [
        "### TODO: Report the average waiting time for morning and afternoon arrivals with price boosting factor p = 1.4 using 100 times simulation.\n",
        "repetitions = 100\n",
        "\n",
        "waiting_morning2 = []\n",
        "afternooon_waiting2 = []\n",
        "### TODO: Repeat the simulation for 100 times and calculate the mean of waiting time for morning arrivals and afternoon arrivals respectively.\n",
        "for _ in range(repetitions):\n",
        "    arrivals = simulate_arrivals(lambda_max=lambda_peak)\n",
        "    l, served_arr_l, waiting_times = simulate_queue_with_price(arrivals, p)\n",
        "\n",
        "    # Separate them\n",
        "    morning_arr = served_arr_l < 12\n",
        "    afternoon_arr = served_arr_l >= 12\n",
        "\n",
        "    waiting_morning2.extend(waiting_times[morning_arr])\n",
        "    afternooon_waiting2.extend(waiting_times[afternoon_arr])\n",
        "\n",
        "# convert format\n",
        "waiting_morning2 = np.array(waiting_morning2)\n",
        "afternooon_waiting2 = np.array(afternooon_waiting2)\n",
        "\n",
        "# comput means\n",
        "mean_morning2 = np.mean(waiting_morning2) if waiting_morning2.size > 0 else 0.0\n",
        "mean_afternoon2 = np.mean(afternooon_waiting2) if afternooon_waiting2.size > 0 else 0.0\n",
        "\n",
        "\n",
        "### TODO: Report the average waiting time\n",
        "print(\"Mean of waiting time for morning arrivals with price boosting:\",mean_morning2 )\n",
        "print(\"Mean of waiting time for afternoon arrivals with price boosting:\",mean_afternoon2 )"
      ]
    },
    {
      "cell_type": "markdown",
      "metadata": {
        "id": "fSMWuvjt3gU0"
      },
      "source": [
        "### <a id='toc1_2_2'></a>[Q1.2.2 Finding the optimal price factor](#toc0_)\n",
        "Now let's find the optimal $ p \\in [1,2] $ that maximizes our objective function. Since it is difficult to derive closed-form solutions for this problem, we encourage you to simulate the results for different values of $ p $ and compare the estimated expected values of the objective function. Please report your results rounded to two decimal places.\n",
        "\n",
        "***Task: Please complete the simulate_day(p, c=0.005, n_sim=100) function and find the optimal $ p \\in [1,2] $ that maximizes our objective function***"
      ]
    },
    {
      "cell_type": "code",
      "execution_count": null,
      "metadata": {
        "id": "-L1nyYpD3gU0"
      },
      "outputs": [],
      "source": [
        "### Parameters:\n",
        "c=0.005 # cost parameter"
      ]
    },
    {
      "cell_type": "code",
      "source": [
        "# update our helper function\n",
        "def simulate_queue(arrivals):\n",
        "    n = len(arrivals)\n",
        "    demands = [simulate_demand(mu, Sigma) for _ in range(n)]\n",
        "    service_times = [lognormal_service_time(d) for d in demands]\n",
        "\n",
        "    waiting_times = np.zeros(n)\n",
        "    service_start_times = np.zeros(n)\n",
        "    service_end_times = np.zeros(n)\n",
        "    price = np.zeros(n)\n",
        "\n",
        "    service_start_times[0] = arrivals[0]\n",
        "    service_end_times[0] = arrivals[0] + service_times[0]\n",
        "    price[0] = np.dot(a, demands[0])\n",
        "\n",
        "    for i in range(1, n):\n",
        "        service_start_times[i] = max(arrivals[i], service_end_times[i - 1])\n",
        "        waiting_times[i] = service_start_times[i] - arrivals[i]\n",
        "        service_end_times[i] = service_start_times[i] + service_times[i]\n",
        "        price[i] = np.dot(a, demands[i])\n",
        "\n",
        "    return waiting_times, price\n",
        "\n",
        "def simulate_queue_with_price(arrivals, p):\n",
        "    l = []\n",
        "    served_arr = []\n",
        "\n",
        "    for i, t in enumerate(arrivals):\n",
        "        if np.random.uniform() < (1 - (p-1)):\n",
        "            l.append(i)\n",
        "            served_arr.append(t)\n",
        "\n",
        "    served_arr = np.array(served_arr)\n",
        "    if len(served_arr) == 0:\n",
        "        return l, served_arr, np.array([]), np.array([])\n",
        "\n",
        "    waiting_times, price = simulate_queue(served_arr)\n",
        "    return l, served_arr, waiting_times, price\n"
      ],
      "metadata": {
        "id": "FRDb2DWOEBBc"
      },
      "execution_count": null,
      "outputs": []
    },
    {
      "cell_type": "code",
      "execution_count": null,
      "metadata": {
        "colab": {
          "base_uri": "https://localhost:8080/"
        },
        "id": "vxU8xwRJ3gU0",
        "outputId": "4931d5b5-7ebd-455c-e371-9dd80a152cda"
      },
      "outputs": [
        {
          "output_type": "stream",
          "name": "stdout",
          "text": [
            "Optimal p: 1.35\n"
          ]
        }
      ],
      "source": [
        "### TODO: find the optimal price boosting factor p that maximizes the expected objective, with c=0.005.\n",
        "def simulate_day(p, c=0.005, n_sim=100):\n",
        "    \"\"\"\n",
        "    Simulate a full day of operation for a given price boosting factor p.\n",
        "\n",
        "    - p: Price boosting factor in [1, 2].\n",
        "    - c: Cost penalty coefficient.\n",
        "    - n_sim: Number of simulation runs.\n",
        "\n",
        "    Tips for each simulation run:\n",
        "      1. Generate a full day arrival process.\n",
        "      2. Apply the simulate_queue_with_price(arrivals, p) for simulating the queue.\n",
        "      3. Compute revenue as the sum over served customers: dot(a, demand).\n",
        "      4. Compute the cost penalty as c*(1+total waiting time)^2.\n",
        "    \"\"\"\n",
        "    objective_values = []\n",
        "    ###TODO: Implement the simulation loop and document the objective values under the given p\n",
        "    for _ in range(n_sim):\n",
        "        arrivals = simulate_arrivals(lambda_max=lambda_peak)\n",
        "        l, served_arr, waiting_times, price = simulate_queue_with_price(arrivals, p)\n",
        "\n",
        "        total_revenue = np.sum(price) if price.size > 0 else 0.0\n",
        "        total_wait = np.sum(waiting_times) if waiting_times.size > 0 else 0.0\n",
        "\n",
        "        cost_penalty = c * (1 + total_wait)**2\n",
        "\n",
        "        objective_values.append(total_revenue - cost_penalty)\n",
        "\n",
        "    return np.mean(objective_values)\n",
        "\n",
        "\n",
        "\n",
        "### TODO: Report the optimal price boosting factor p that maximizes the expected net benefit.\n",
        "p_values = np.linspace(1, 2, 21)\n",
        "objectives = []\n",
        "\n",
        "for p in p_values:\n",
        "    obj = simulate_day(p, c=c, n_sim=100)\n",
        "    objectives.append(obj)\n",
        "\n",
        "optimal_index = np.argmax(objectives)\n",
        "optimal_p = p_values[optimal_index]\n",
        "\n",
        "print(\"Optimal p:\", round(optimal_p, 2))"
      ]
    },
    {
      "cell_type": "markdown",
      "metadata": {
        "id": "a2aDp-vc3gU0"
      },
      "source": [
        "## <a id='toc1_3'></a>[Q1.3 Inventory management of retail center](#toc0_)\n",
        "\n",
        " ***Notes: the price boosting factor is set as p=1 for Q1.3***.\n",
        "\n",
        "In this question, we extend the retailing center simulation described in **Q1.0** by incorporating **inventory decision**. While the arrival process, customer demand, and service times remain as in Q1.0, we now account for the fact that the retailing center may experience periods of limited stock for each product. To meet the demand from customers, the center must frequently replenish its inventory by placing order from its supplier. Holding inventory incurs a storage cost. Additionally, when demand exceeds available stock during a day, the shortage can be filled by 'borrowing' from nearby stores at an external cost from its supplier. In summary, there are two costs associated with inventory:\n",
        "\n",
        "+ **Storage Cost:** At the end of each day, each unit of product remaining in stock incurs a storage cost of $ c_{\\text{storage}} $.\n",
        "+ **External Cost:** For each unit of unsatisfied demand (i.e., lost sales) during the day, the retailing center incurs an external cost $ c_{\\text{external}} $ of borrowing.\n",
        "+  For simplicity, $c_{\\text{storage}}$ for all products are the same and $c_{\\text{external}}$ for all products are the same.\n",
        "\n",
        "To decide when and how many products to place an order to the retailing center's supplier, we consider a simple (r,Q) policy for inventory management decsion. The simple idea of (r,Q) policy is to place an order of $Q\\in\\mathbb{R}^d$ every $r$ days. Some new details for the inventory costs and (r,Q) policy are summarized below:\n",
        "\n",
        "**(r, Q) Inventory Policy**\n",
        "1. **Review Period:** Inventory is reviewed every $ r $ days (e.g., 2 days).\n",
        "2. **Order Quantity:** On a review day, an order of size $Q$ (a vector of length $d$) is placed for each product.\n",
        "3. **Lead Time:** Orders are subject to an exponential lead time after placing the order, $L \\sim \\text{Exp}(1/\\mu_{\\text{lead}})$.\n",
        "4. **End-of-Day Update:** Regardless of when an order arrives during the day, if it arrives intra-day, it is held until next-day update. Orders are then added to the inventory as the starting stock level for the next day. (the new order will not encounter storage cost for the previous day).\n",
        "5. **External Procurement:** If customer demand during the day exceeds on-hand inventory, the shortfall is met by external stores at a cost of $c_{\\text{external}}$ per unit.\n",
        "\n",
        "\n",
        "We assume that the retailing center has infinity size of storage space. What we would like to do is implemnting the function `simulate_rQ(r, Q, initial_inventory, num_days, external_cost, lead_mean, storage_cost)` that can simulate the costs of inventory for num_days.\n",
        "\n",
        "Further we would like simulate the (r,Q) policy for 50 days and estimate the final total inventory cost for the following two (r,Q) policy:\n",
        "1. $r=2, Q=(1000, 1000, 1000, 1000, 1000)$\n",
        "2. $r=5, Q=(3000, 3000, 3000, 3000, 3000)$\n",
        "\n",
        "We assume at the starting date, the inventory starts with $Q$ under (r,Q) policy.\n",
        "\n",
        "***Task: Please complete the simulate_multi_day_policy(r, Q, num_days, external_cost, lead_mean, storage_cost) function and compare two policies above.***\n"
      ]
    },
    {
      "cell_type": "code",
      "execution_count": null,
      "metadata": {
        "id": "naY3SlgS3gU0"
      },
      "outputs": [],
      "source": [
        "### Parameters needed\n",
        "### arrival info\n",
        "lambda0 = 10\n",
        "lambda_peak = 25\n",
        "lambda_end = 8\n",
        "p = 1 # price boosting factor\n",
        "\n",
        "### demand info\n",
        "d  = 5\n",
        "mu = np.random.uniform(0, 1, d)\n",
        "Sigma = np.eye(d)\n",
        "a = np.array([10, 15, 5, 15, 10])/3600\n",
        "\n",
        "\n",
        "### Inventory management\n",
        "num_days = 50  #Days for simulating the inventory policy\n",
        "external_cost = 0.05    # Penalty cost per unit from external store (for unmet demand)\n",
        "lead_mean = 1.5        # Mean lead time in days (exponential distribution)\n",
        "storage_cost = 0.01     # Storage cost per unit per day\n"
      ]
    },
    {
      "cell_type": "code",
      "execution_count": null,
      "metadata": {
        "id": "tIk-LL-63gU0"
      },
      "outputs": [],
      "source": [
        "import math\n",
        "### TODO: Implement simulate_multi_day_policy function\n",
        "def simulate_multi_day_policy(r, Q, num_days, external_cost, lead_mean, storage_cost):\n",
        "    \"\"\"\n",
        "    Simulate inventory operations over multiple days under an (r, Q) policy.\n",
        "    Parameters:\n",
        "      r             : Review period in days (e.g., 2 or 5)\n",
        "      Q             : Order quantity vector (length d), e.g., np.array([q1, q2, ..., q5])\n",
        "      initial_inventory : Starting inventory vector (length d) at day 1 morning.\n",
        "      num_days      : Total number of days to simulate.\n",
        "      external_cost : Penalty cost per unit if demand is met externally.\n",
        "      lead_mean     : Mean of the exponential lead time.\n",
        "      storage_cost  : Cost per unit of inventory held overnight.\n",
        "\n",
        "    Returns:\n",
        "        total_inventory_cost during the simulate period\n",
        "    \"\"\"\n",
        "    total_external_cost = 0.0\n",
        "    total_storage_cost = 0.0\n",
        "    total_orders_placed = 0\n",
        "    final_inventory_acc = np.zeros(d)\n",
        "\n",
        "    # Start with the initial inventory at day 1\n",
        "    current_inventory = Q\n",
        "\n",
        "    # Outstanding orders: list of tuples (delivery_day, order_quantity_vector)\n",
        "    outstanding_orders = []\n",
        "\n",
        "    ### TODO: Simulate each day and document the cost\n",
        "    for day in range(1, num_days + 1):\n",
        "        received_orders = [order for order in outstanding_orders if order[0] == day]\n",
        "        for delivery_day, order_qty in received_orders:\n",
        "            current_inventory += order_qty\n",
        "        outstanding_orders = [order for order in outstanding_orders if order[0] > day]\n",
        "\n",
        "        ## today sales\n",
        "        arrivals = simulate_arrivals(lambda_max=lambda_peak)\n",
        "        day_external_cost = 0.0\n",
        "\n",
        "        for _ in arrivals:\n",
        "            demand_vector = simulate_demand(mu, Sigma)\n",
        "            for i in range(d):\n",
        "                if current_inventory[i] >= demand_vector[i]:\n",
        "                    current_inventory[i] -= demand_vector[i]\n",
        "                else:\n",
        "                    shortage = demand_vector[i] - current_inventory[i]\n",
        "                    day_external_cost += external_cost * shortage\n",
        "                    current_inventory[i] = 0.0\n",
        "\n",
        "        day_storage_cost = np.sum(current_inventory) * storage_cost\n",
        "\n",
        "        total_external_cost += day_external_cost\n",
        "        total_storage_cost += day_storage_cost\n",
        "\n",
        "        if day % r == 0:\n",
        "            lead_time = np.random.exponential(scale=lead_mean)\n",
        "            delivery_day = int(math.ceil(day + lead_time))\n",
        "            if delivery_day <= day:\n",
        "                delivery_day = day + 1\n",
        "            outstanding_orders.append((delivery_day, Q.copy()))\n",
        "            total_orders_placed += 1\n",
        "\n",
        "    total_inventory_cost = total_external_cost + total_storage_cost\n",
        "    return total_inventory_cost"
      ]
    },
    {
      "cell_type": "code",
      "execution_count": null,
      "metadata": {
        "colab": {
          "base_uri": "https://localhost:8080/"
        },
        "id": "7Q2yYjBI3gU0",
        "outputId": "fce91653-e4a1-4db7-b1a4-39a1bd4fed9f"
      },
      "outputs": [
        {
          "output_type": "stream",
          "name": "stdout",
          "text": [
            "Average total inventory cost over 50 days (Policy 1: r=2, Q=[1000,...,1000]): $5811.47\n",
            "Average total inventory cost over 50 days (Policy 2: r=5, Q=[3000,...,3000]):   $5810.14\n",
            "=== Policy 2: (r = 2 days, Q = [3000, 3000, 3000, 3000, 3000]) ===\n",
            "Inventory cost:\n"
          ]
        }
      ],
      "source": [
        "### TODO: simulate the two (r, Q) policies\n",
        "\n",
        "\n",
        "# Policy 1: Review every 2 days, order quantity of 1000 units per product.\n",
        "r1 = 2\n",
        "Q1 = np.array([1000, 1000, 1000, 1000, 1000])\n",
        "\n",
        "# Policy 2: Review every 5 days, order quantity of 1000 units per product.\n",
        "r2 = 5\n",
        "Q2 = np.array([3000, 3000, 3000, 3000, 3000])\n",
        "\n",
        "# We run multiple replications to average out the randomness.\n",
        "replications = 100\n",
        "costs_policy1 = []\n",
        "costs_policy2 = []\n",
        "\n",
        "for _ in range(replications):\n",
        "    cost1 = simulate_multi_day_policy(r1, Q1, num_days, external_cost, lead_mean, storage_cost)\n",
        "    costs_policy1.append(cost1)\n",
        "\n",
        "    cost2 = simulate_multi_day_policy(r2, Q2, num_days, external_cost, lead_mean, storage_cost)\n",
        "    costs_policy2.append(cost2)\n",
        "\n",
        "mean_cost_policy1 = np.mean(costs_policy1)\n",
        "mean_cost_policy2 = np.mean(costs_policy2)\n",
        "### TODO: report the inventory cost for each policy\n",
        "print(\"Average total inventory cost over {} days (Policy 1: r=2, Q=[1000,...,1000]): ${:.2f}\".format(num_days, mean_cost_policy1))\n",
        "print(\"Average total inventory cost over {} days (Policy 2: r=5, Q=[3000,...,3000]):   ${:.2f}\".format(num_days, mean_cost_policy2))\n",
        "\n",
        "\n",
        "\n",
        "# print(\"=== Policy 1: (r = 2 days, Q = [1000, 1000, 1000, 1000, 1000]) ===\")\n",
        "# print(\"Inventory cost:\",)\n",
        "\n",
        "\n",
        "# print(\"=== Policy 2: (r = 2 days, Q = [3000, 3000, 3000, 3000, 3000]) ===\")\n",
        "# print(\"Inventory cost:\",)\n",
        "\n"
      ]
    },
    {
      "cell_type": "markdown",
      "metadata": {
        "id": "CRgLHjcz3gU0"
      },
      "source": [
        "# <a id='toc2'></a>[Question 2: Multi-Armed Bandit](#toc0_)\n",
        "For the Q2, we will implement and compare several multi-armed bandit algorithms across different reward distributions. We will work with two types of bandit environments:\n",
        "- **Bernoulli Bandit:** Each arm gives a binary reward (0 or 1).\n",
        "- **Gaussian Bandit:** Each arm’s reward is drawn from a Gaussian (Normal) distribution.\n",
        "\n",
        "\n",
        "We will implement two algorithms **Epsilon-Greedy**, **UCB (Upper Confidence Bound)**.\n"
      ]
    },
    {
      "cell_type": "markdown",
      "metadata": {
        "id": "kZC8x8NI3gU0"
      },
      "source": [
        "## <a id='toc2_1'></a>[Q2.1 Inplementation of Bernoulli and Gaussian bandit](#toc0_)\n",
        "We start with an provided example of `BernoulliBandit`.\n",
        "In a Bernoulli bandit, we have $n$ arms,  each arm $i\\in{1,2,\\cdots,n}$ provides a reward of 1 with probability $p_i$ and 0 otherwise. The reward is modeled as:\n",
        "$$\n",
        "r_i \\sim \\text{Bernoulli}(p_i)\n",
        "$$\n",
        "To initialize a `BernoulliBandit`, what we need is a list of probabilities indicating the probability of providing a reward of 1 when pulling arms. Then the `pull` method take in an arm index, and returns a reward of 1 with probability of the index input."
      ]
    },
    {
      "cell_type": "code",
      "execution_count": null,
      "metadata": {
        "colab": {
          "base_uri": "https://localhost:8080/"
        },
        "id": "udxzo3dV3gU0",
        "outputId": "61efc201-8891-4429-93cd-6f3ddc5c6815"
      },
      "outputs": [
        {
          "output_type": "stream",
          "name": "stdout",
          "text": [
            "0\n"
          ]
        }
      ],
      "source": [
        "### EXAMPLE: a simple Bernoulli bandit algorithm\n",
        "class BernoulliBandit:\n",
        "    def __init__(self, probabilities):\n",
        "        self.probabilities = probabilities\n",
        "        self.n_arms = len(probabilities)\n",
        "    def pull(self, arm):\n",
        "        return 1 if np.random.rand() < self.probabilities[arm] else 0\n",
        "\n",
        "### test case\n",
        "probabilities = [0.2, 0.5, 0.75]\n",
        "bandit = BernoulliBandit(probabilities)\n",
        "reward = bandit.pull(1)  # Returns 1 with probability 0.5, otherwise 0\n",
        "print(reward)"
      ]
    },
    {
      "cell_type": "markdown",
      "metadata": {
        "id": "u5oSacWL3gU0"
      },
      "source": [
        "Now let's implement `GaussianBandit`. In a Gaussian bandit, each arm $i \\in \\{1,2,\\dots,n\\}$ provides a reward that follows a normal (Gaussian) distribution:\n",
        "\n",
        "$$\n",
        "r_i \\sim \\mathcal{N}(\\mu_i, \\sigma_i^2)\n",
        "$$\n",
        "\n",
        "where:\n",
        "- $\\mu_i$ is the true mean reward of arm $i$.\n",
        "- $\\sigma_i^2$ is the variance of the reward distribution for arm $i$.\n",
        "\n",
        "\n",
        "\n",
        "To complete the implementation of the `GaussianBandit` class, follow these steps:\n",
        "\n",
        "1. Initialize the environment: The constructor should take two lists:\n",
        "  + A list of mean rewards $\\mu = [\\mu_1, \\mu_2, \\dots, \\mu_n]$.\n",
        "  + A list of standard deviations $\\sigma = [\\sigma_1, \\sigma_2, \\dots, \\sigma_n]$.\n",
        "\n",
        "2. Implement the pull function: When an arm $i$ is pulled, generate a reward using the normal distribution:\n",
        "    $r_i = \\mathcal{N}(\\mu_i, \\sigma_i^2)$\n",
        "\n",
        "***Task: Please complete the built-in functions of GaussianBandit.***"
      ]
    },
    {
      "cell_type": "code",
      "execution_count": null,
      "metadata": {
        "colab": {
          "base_uri": "https://localhost:8080/"
        },
        "id": "suYTVYBc3gU0",
        "outputId": "30afcc36-226f-47da-a012-eeda0a29859c"
      },
      "outputs": [
        {
          "output_type": "stream",
          "name": "stdout",
          "text": [
            "-0.4862656952606663\n"
          ]
        }
      ],
      "source": [
        "### TODO: Implement the GaussianBandit class\n",
        "class GaussianBandit:\n",
        "    ### TODO: Implement the __init__\n",
        "    def __init__(self, means, stds):\n",
        "        self.means = means\n",
        "        self.stds = stds\n",
        "        self.n_arms = len(means)\n",
        "\n",
        "    ### TODO: Implement the pull method\n",
        "    def pull(self, arm):\n",
        "       reward = np.random.normal(self.means[arm], self.stds[arm])\n",
        "       return reward\n",
        "\n",
        "\n",
        "## test case\n",
        "means = [0, 1, 2]\n",
        "stds = [1, 1, 1]\n",
        "bandit = GaussianBandit(means, stds)\n",
        "\n",
        "reward = bandit.pull(1)  # Pull the second arm\n",
        "print(reward)\n"
      ]
    },
    {
      "cell_type": "markdown",
      "metadata": {
        "id": "JuDjpxKN3gU0"
      },
      "source": [
        "## <a id='toc2_2'></a>[Q2.2 Inplementation of Espsilon-greedy and Upper Confidence Bound](#toc0_)\n",
        "In this section we implement two bandit agoritms to identify the arm with highest mean rewards while try to minimize the expected regret during the process. The epsilon-greedy algorithm selects a random arm with probability $\\epsilon$ (exploration) and selects the arm with the highest estimated reward with probability $1-\\epsilon$ (exploitation). The selection rule is given by:\n",
        "$$\n",
        "i_t =\n",
        "\\begin{cases}\n",
        "\\text{random arm} & \\text{with probability } \\epsilon, \\\\\n",
        "\\arg\\max_i \\hat{\\mu}_i & \\text{with probability } 1-\\epsilon,\n",
        "\\end{cases}\n",
        "$$\n",
        "where $\\hat{\\mu}_i$ is the estimated mean reward for arm $i$.\n",
        "\n",
        "To implement the class `EpsilonGreedy`, we include three fucntions:\n",
        "+ `__init__(self, n_arms, epsilon)`: Initialize the algorithm with number of arms and espilon.\n",
        "+ `select_arm(self)`: select the arm to pull based on current estimation with epsilon-greedy rule.\n",
        "+ `update(self, chosen_arm, reward)`: update estimation for arm's rewards after observing the pulling results.\n"
      ]
    },
    {
      "cell_type": "code",
      "execution_count": null,
      "metadata": {
        "id": "W1vR1oCr3gU0"
      },
      "outputs": [],
      "source": [
        "### EXAMPLE: implementation of the epsilon-greedy algorithm\n",
        "class EpsilonGreedy:\n",
        "    def __init__(self, n_arms, epsilon):\n",
        "        self.n_arms = n_arms\n",
        "        self.epsilon = epsilon\n",
        "        self.counts = np.zeros(n_arms)  # Number of plays for each arm\n",
        "        self.values = np.zeros(n_arms)  # Estimated average reward for each arm\n",
        "\n",
        "    def select_arm(self):\n",
        "        if np.random.rand() < self.epsilon:\n",
        "            return np.random.randint(0, self.n_arms)\n",
        "        else:\n",
        "            return np.argmax(self.values)\n",
        "\n",
        "    def update(self, chosen_arm, reward):\n",
        "        self.counts[chosen_arm] += 1\n",
        "        n = self.counts[chosen_arm]\n",
        "        self.values[chosen_arm] = ((n - 1) / n) * self.values[chosen_arm] + (1 / n) * reward\n",
        "\n",
        "### test case with bernoulli bandit\n",
        "n_arms = 5\n",
        "probabilities = [0.1, 0.3, 0.5, 0.7, 0.9]  # True success probabilities of each arm\n",
        "bandit = BernoulliBandit(probabilities)\n",
        "# Initialize the Epsilon-Greedy agent\n",
        "epsilon = 0.1\n",
        "agent = EpsilonGreedy(n_arms, epsilon)\n",
        "# Define the number of rounds\n",
        "n_rounds = 100\n",
        "# Track rewards\n",
        "rewards = np.zeros(n_rounds)\n",
        "# Run the simulation\n",
        "for t in range(n_rounds):\n",
        "    chosen_arm = agent.select_arm()  # Agent selects an arm\n",
        "    reward = bandit.pull(chosen_arm)  # Bandit generates a reward\n",
        "    agent.update(chosen_arm, reward)  # Update the agent's knowledge\n"
      ]
    },
    {
      "cell_type": "markdown",
      "metadata": {
        "id": "RngKieqo3gU0"
      },
      "source": [
        "The Upper Confidence Bound (UCB) algorithm selects the arm that maximizes the following expression:\n",
        "$$\n",
        "i_t = \\arg\\max_i \\left( \\hat{\\mu}_i + \\sqrt{\\frac{2 \\ln t}{n_i}} \\right),\n",
        "$$\n",
        "where:\n",
        "- $t$ is the total number of rounds,\n",
        "- $n_i$ is the number of times arm $i$ has been played, and\n",
        "- $\\hat{\\mu}_i$ is the estimated mean reward of arm $i$.\n",
        "\n",
        "Implement the algorithm `UCB` in the following cell. You can refer to the example implementation of `EpsilonGreedy`. The `UCB` also has three functions for you to implement.\n",
        "+ `__init__(self, n_arms, epsilon)`: Initialize the algorithm with number of arms and espilon\n",
        "+ `select_arm(self)`: select the arm to pull based on current estimation\n",
        "+ `update(self, chosen_arm, reward)`: update estimation for arm's rewards after observing the pulling results.\n",
        "+\n",
        "***Task: Please complete the built-in functions of UCB.***"
      ]
    },
    {
      "cell_type": "code",
      "execution_count": null,
      "metadata": {
        "id": "dV6n5pkO3gU0"
      },
      "outputs": [],
      "source": [
        "### TODO: Implement the UCB algorithm\n",
        "class UCB:\n",
        "    def __init__(self, n_arms):\n",
        "        self.n_arms = n_arms\n",
        "        self.counts = np.zeros(n_arms)\n",
        "        self.values = np.zeros(n_arms)\n",
        "        self.total_counts = 0\n",
        "\n",
        "    ### TODO: Implement the UCB algorithm to select the arm\n",
        "    def select_arm(self):\n",
        "        for arm in range(self.n_arms):\n",
        "            if self.counts[arm] == 0:\n",
        "                return arm\n",
        "        result = self.values + np.sqrt(2 * np.log(self.total_counts) / self.counts)\n",
        "\n",
        "        return np.argmax(result)\n",
        "\n",
        "    ### TODO: Implement the UCB algorithm to update the value of the chosen arm\n",
        "    def update(self, chosen_arm, reward):\n",
        "        self.counts[chosen_arm] += 1\n",
        "        self.total_counts += 1\n",
        "\n",
        "        n = self.counts[chosen_arm]\n",
        "        self.values[chosen_arm] = ((n - 1) / n) * self.values[chosen_arm] + (1 / n) * reward\n",
        "\n",
        "\n"
      ]
    },
    {
      "cell_type": "markdown",
      "metadata": {
        "id": "DDZc5rG63gU4"
      },
      "source": [
        "## <a id='toc2_3'></a>[Q2.3 Simulation and Regret Calculation](#toc0_)\n",
        "In this section we compare the short/long run performance of UCB and esiplon greedy algorithms in terms of regret.\n",
        "\n",
        "The **regret** at time $t$ is defined as the cumulated difference between the **reward of the optimal arm** and the **reward obtained** by the algorithm:\n",
        "\n",
        "$$\n",
        "\\text{Regret}(t) = \\sum_{s=1}^{t} (\\mu^* - r_s),\n",
        "$$\n",
        "where:\n",
        "- $\\mu^* = \\max_{i} \\mu_i$ is the true mean reward of the best arm.\n",
        "- $r_s$ is the reward obtained at round $s$.\n",
        "\n",
        "We would like to compare the UCB and epsilon-greedy algorithm with $\\epsilon=0.1$ on a Bernoulli bandit in terms of regret for different time horizon $t$. The parameters are provided in the next cell. We would like to run the sumulation for 100 times, each experiment last for 1000 pulls. Please complete the simulation loop and visualize the mean accumulative regret in each rounds with $\\pm 2\\sigma$ confidence interval. What can you observe the regret performance of the two algorithms in short run horizon ($t<100$) and long run horizon ($t>600$)?\n",
        "\n",
        "***Task: Please complete run 100 simulations, each last for 1000 rounds (pulls) using both algorithms and visualize the cummulative regrets and corresponding $\\pm 2\\sigma$ confidence interval. And summarize the regret performance of the two algorithms in short run horizon ($t<100$) and long run horizon ($t>600$)***"
      ]
    },
    {
      "cell_type": "code",
      "execution_count": null,
      "metadata": {
        "id": "cPIT_TNr3gU4"
      },
      "outputs": [],
      "source": [
        "#### Parameters of the bandit settings\n",
        "# Define the bandit environment\n",
        "n_arms = 5\n",
        "probabilities = [0.1, 0.3, 0.5, 0.7, 0.9]  # True success probabilities\n",
        "bandit = BernoulliBandit(probabilities)\n",
        "\n",
        "# Initialize the algorithms\n",
        "epsilon = 0.1\n",
        "eg_agent = EpsilonGreedy(n_arms, epsilon)\n",
        "ucb_agent = UCB(n_arms)\n",
        "\n",
        "# Number of rounds for each simulation experiment\n",
        "n_rounds = 1000\n",
        "\n",
        "# Run multiple experiments to get mean and confidence intervals\n",
        "repetitions = 100\n",
        "\n",
        "optimal_mean = np.max(probabilities)"
      ]
    },
    {
      "cell_type": "code",
      "execution_count": null,
      "metadata": {
        "colab": {
          "base_uri": "https://localhost:8080/",
          "height": 564
        },
        "id": "11XDjfGq3gU4",
        "outputId": "1e4f83f9-a3f9-43a7-8288-0d8ca04dbe08"
      },
      "outputs": [
        {
          "output_type": "display_data",
          "data": {
            "text/plain": [
              "<Figure size 1000x600 with 1 Axes>"
            ],
            "image/png": "[encoded data removed]"
          },
          "metadata": {}
        }
      ],
      "source": [
        "### TODO: Implement the multiple experiments loop and visualize the results\n",
        "all_regret_eg = np.zeros((repetitions, n_rounds))\n",
        "all_regret_ucb = np.zeros((repetitions, n_rounds))\n",
        "\n",
        "### TODO: Complete multiple experiments loop\n",
        "for exp in range(repetitions):\n",
        "    bandit = BernoulliBandit(probabilities)\n",
        "    eg_agent = EpsilonGreedy(n_arms, epsilon)\n",
        "    ucb_agent = UCB(n_arms)\n",
        "\n",
        "    cum_regret_eg = 0\n",
        "    cum_regret_ucb = 0\n",
        "\n",
        "    for t in range(n_rounds):\n",
        "        ## epsilon-greedy\n",
        "        chosen_arm = eg_agent.select_arm()\n",
        "        reward = bandit.pull(chosen_arm)\n",
        "        eg_agent.update(chosen_arm, reward)\n",
        "        cum_regret_eg += (optimal_mean - reward)\n",
        "        all_regret_eg[exp, t] = cum_regret_eg\n",
        "\n",
        "        ## UCB\n",
        "        chosen_arm = ucb_agent.select_arm()\n",
        "        reward = bandit.pull(chosen_arm)\n",
        "        ucb_agent.update(chosen_arm, reward)\n",
        "        cum_regret_ucb += (optimal_mean - reward)\n",
        "        all_regret_ucb[exp, t] = cum_regret_ucb\n",
        "\n",
        "\n",
        "### TODO: Visualize the cumulative regret with confidence intervals\n",
        "mean_regret_eg = np.mean(all_regret_eg, axis=0)\n",
        "std_regret_eg  = np.std(all_regret_eg, axis=0)\n",
        "\n",
        "mean_regret_ucb = np.mean(all_regret_ucb, axis=0)\n",
        "std_regret_ucb  = np.std(all_regret_ucb, axis=0)\n",
        "plt.figure(figsize=(10,6))\n",
        "\n",
        "# epsilon greedy\n",
        "plt.plot(mean_regret_eg, label='Epsilon Greedy', color='green')\n",
        "plt.fill_between(range(n_rounds),\n",
        "                 mean_regret_eg - 2*std_regret_eg,\n",
        "                 mean_regret_eg + 2*std_regret_eg,\n",
        "                 color='green', alpha=0.2)\n",
        "\n",
        "# UCB\n",
        "plt.plot(mean_regret_ucb, label='UCB', color='red')\n",
        "plt.fill_between(range(n_rounds),\n",
        "                 mean_regret_ucb - 2*std_regret_ucb,\n",
        "                 mean_regret_ucb + 2*std_regret_ucb,\n",
        "                 color='red', alpha=0.2)\n",
        "\n",
        "plt.xlabel('rounds')\n",
        "plt.ylabel('cumulative Regret')\n",
        "plt.title('Cumulative Regret with +2 ~ -2 confidence Interval')\n",
        "plt.legend()\n",
        "plt.grid(True)\n",
        "plt.show()\n",
        "\n"
      ]
    }
  ],
  "metadata": {
    "kernelspec": {
      "display_name": "Python 3",
      "language": "python",
      "name": "python3"
    },
    "language_info": {
      "codemirror_mode": {
        "name": "ipython",
        "version": 3
      },
      "file_extension": ".py",
      "mimetype": "text/x-python",
      "name": "python",
      "nbconvert_exporter": "python",
      "pygments_lexer": "ipython3",
      "version": "3.8.8"
    },
    "colab": {
      "provenance": [],
      "include_colab_link": true
    }
  },
  "nbformat": 4,
  "nbformat_minor": 0
}